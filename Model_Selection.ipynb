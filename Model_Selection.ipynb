{
  "nbformat": 4,
  "nbformat_minor": 0,
  "metadata": {
    "kernelspec": {
      "display_name": "Python 3",
      "language": "python",
      "name": "python3"
    },
    "language_info": {
      "codemirror_mode": {
        "name": "ipython",
        "version": 3
      },
      "file_extension": ".py",
      "mimetype": "text/x-python",
      "name": "python",
      "nbconvert_exporter": "python",
      "pygments_lexer": "ipython3",
      "version": "3.8.5"
    },
    "colab": {
      "name": "Model Selection.ipynb",
      "provenance": [],
      "collapsed_sections": [],
      "include_colab_link": true
    }
  },
  "cells": [
    {
      "cell_type": "markdown",
      "metadata": {
        "id": "view-in-github",
        "colab_type": "text"
      },
      "source": [
        "<a href=\"https://colab.research.google.com/github/nitesh0007-edith/Spotify-Music-Skips-Action-Prediction/blob/main/Model_Selection.ipynb\" target=\"_parent\"><img src=\"https://colab.research.google.com/assets/colab-badge.svg\" alt=\"Open In Colab\"/></a>"
      ]
    },
    {
      "cell_type": "code",
      "metadata": {
        "id": "7kGPcojnCZtR"
      },
      "source": [
        "import numpy as np\n",
        "import pandas as pd\n",
        "import matplotlib.pyplot as plt\n",
        "%matplotlib inline\n",
        "import seaborn as sns\n",
        "sns.set()\n",
        "\n",
        "from sklearn.model_selection import train_test_split\n",
        "\n",
        "from sklearn.linear_model import LogisticRegressionCV\n",
        "from sklearn.ensemble import RandomForestClassifier\n",
        "from xgboost import XGBClassifier\n",
        "from lightgbm import LGBMClassifier\n",
        "import pickle"
      ],
      "execution_count": null,
      "outputs": []
    },
    {
      "cell_type": "code",
      "metadata": {
        "id": "iIWIuze9HrKN"
      },
      "source": [
        "#from google.colab import files\r\n",
        "#files.upload()"
      ],
      "execution_count": 93,
      "outputs": []
    },
    {
      "cell_type": "code",
      "metadata": {
        "id": "HE0mde8NHsK7"
      },
      "source": [
        "#from google.colab import files\r\n",
        "#files.upload()"
      ],
      "execution_count": 94,
      "outputs": []
    },
    {
      "cell_type": "code",
      "metadata": {
        "colab": {
          "base_uri": "https://localhost:8080/"
        },
        "id": "WMYMsfbjCZtW",
        "outputId": "c05fb2a3-9b0a-4414-b529-e158c955b832"
      },
      "source": [
        "# Load in the training set\n",
        "training_set = pd.read_csv(\"train.csv\")\n",
        "training_set.hist_user_behavior_reason_start = training_set.hist_user_behavior_reason_start.astype('category')\n",
        "training_set.hist_user_behavior_reason_end = training_set.hist_user_behavior_reason_end.astype('category')\n",
        "training_set.context_type = training_set.context_type.astype('category')\n",
        "training_set.date = training_set.date.apply(pd.to_datetime)\n",
        "\n",
        "# Load in the track features\n",
        "track_data = pd.read_csv(\"track.csv\")\n",
        "\n",
        "# Using skip_2 as the ground truth\n",
        "training_set['skipped'] = (training_set.skip_2 | training_set.skip_1).astype('int32')\n",
        "training_set = training_set.drop(columns=['skip_1','skip_2','skip_3','not_skipped'])\n",
        "#training_set.head()"
      ],
      "execution_count": 78,
      "outputs": [
        {
          "output_type": "stream",
          "text": [
            "/usr/local/lib/python3.6/dist-packages/IPython/core/interactiveshell.py:2718: DtypeWarning: Columns (3,4,5,6,7,14,16,17,18,19,20) have mixed types.Specify dtype option on import or set low_memory=False.\n",
            "  interactivity=interactivity, compiler=compiler, result=result)\n"
          ],
          "name": "stderr"
        }
      ]
    },
    {
      "cell_type": "code",
      "metadata": {
        "id": "xy_Ye5SyCZtW"
      },
      "source": [
        "training_set=training_set.dropna()"
      ],
      "execution_count": 79,
      "outputs": []
    },
    {
      "cell_type": "code",
      "metadata": {
        "id": "0AZGzfH6CZtX"
      },
      "source": [
        "#training_set.isnull().sum()"
      ],
      "execution_count": 76,
      "outputs": []
    },
    {
      "cell_type": "code",
      "metadata": {
        "id": "niDQ0q9eCZtX"
      },
      "source": [
        "#track_data.isnull().sum()"
      ],
      "execution_count": 77,
      "outputs": []
    },
    {
      "cell_type": "code",
      "metadata": {
        "id": "gb6lynK5CZtY"
      },
      "source": [
        "#track_data.head()"
      ],
      "execution_count": 80,
      "outputs": []
    },
    {
      "cell_type": "code",
      "metadata": {
        "id": "4MHs38H_CZtY"
      },
      "source": [
        "#track_data.info()"
      ],
      "execution_count": 81,
      "outputs": []
    },
    {
      "cell_type": "code",
      "metadata": {
        "id": "v8JOSZ4jCZtZ",
        "colab": {
          "base_uri": "https://localhost:8080/",
          "height": 482
        },
        "outputId": "ae8d6118-9c01-42b1-b38e-50c6765baca3"
      },
      "source": [
        "# Convert the columns to all be consistantly numeric\n",
        "track_data.iloc[:,1:] = track_data.iloc[:,1:].astype('float32')\n",
        "track_data.head()"
      ],
      "execution_count": 82,
      "outputs": [
        {
          "output_type": "execute_result",
          "data": {
            "text/html": [
              "<div>\n",
              "<style scoped>\n",
              "    .dataframe tbody tr th:only-of-type {\n",
              "        vertical-align: middle;\n",
              "    }\n",
              "\n",
              "    .dataframe tbody tr th {\n",
              "        vertical-align: top;\n",
              "    }\n",
              "\n",
              "    .dataframe thead th {\n",
              "        text-align: right;\n",
              "    }\n",
              "</style>\n",
              "<table border=\"1\" class=\"dataframe\">\n",
              "  <thead>\n",
              "    <tr style=\"text-align: right;\">\n",
              "      <th></th>\n",
              "      <th>track_id</th>\n",
              "      <th>duration</th>\n",
              "      <th>release_year</th>\n",
              "      <th>us_popularity_estimate</th>\n",
              "      <th>acousticness</th>\n",
              "      <th>beat_strength</th>\n",
              "      <th>bounciness</th>\n",
              "      <th>danceability</th>\n",
              "      <th>dyn_range_mean</th>\n",
              "      <th>energy</th>\n",
              "      <th>flatness</th>\n",
              "      <th>instrumentalness</th>\n",
              "      <th>key</th>\n",
              "      <th>liveness</th>\n",
              "      <th>loudness</th>\n",
              "      <th>mechanism</th>\n",
              "      <th>is_major</th>\n",
              "      <th>organism</th>\n",
              "      <th>speechiness</th>\n",
              "      <th>tempo</th>\n",
              "      <th>time_signature</th>\n",
              "      <th>valence</th>\n",
              "      <th>acoustic_vector_0</th>\n",
              "      <th>acoustic_vector_1</th>\n",
              "      <th>acoustic_vector_2</th>\n",
              "      <th>acoustic_vector_3</th>\n",
              "      <th>acoustic_vector_4</th>\n",
              "      <th>acoustic_vector_5</th>\n",
              "      <th>acoustic_vector_6</th>\n",
              "      <th>acoustic_vector_7</th>\n",
              "    </tr>\n",
              "  </thead>\n",
              "  <tbody>\n",
              "    <tr>\n",
              "      <th>0</th>\n",
              "      <td>t_7f435320-5d3b-497d-9346-0c97429af2b9</td>\n",
              "      <td>3.866097</td>\n",
              "      <td>0.441176</td>\n",
              "      <td>-0.403765</td>\n",
              "      <td>0.075846</td>\n",
              "      <td>0.499848</td>\n",
              "      <td>0.494943</td>\n",
              "      <td>0.461215</td>\n",
              "      <td>-0.208611</td>\n",
              "      <td>0.563252</td>\n",
              "      <td>0.916317</td>\n",
              "      <td>3.736224e-01</td>\n",
              "      <td>0.0</td>\n",
              "      <td>0.693975</td>\n",
              "      <td>-1.877277</td>\n",
              "      <td>0.187614</td>\n",
              "      <td>1.0</td>\n",
              "      <td>0.576942</td>\n",
              "      <td>0.065943</td>\n",
              "      <td>0.500154</td>\n",
              "      <td>0.571429</td>\n",
              "      <td>0.468440</td>\n",
              "      <td>1.034540</td>\n",
              "      <td>-1.040880</td>\n",
              "      <td>-1.281460</td>\n",
              "      <td>-0.375163</td>\n",
              "      <td>1.442307</td>\n",
              "      <td>0.045940</td>\n",
              "      <td>-0.443245</td>\n",
              "      <td>-0.243705</td>\n",
              "    </tr>\n",
              "    <tr>\n",
              "      <th>1</th>\n",
              "      <td>t_2a7b6393-ebec-4e1f-a53f-2ad842532c99</td>\n",
              "      <td>1.512969</td>\n",
              "      <td>0.308824</td>\n",
              "      <td>0.314153</td>\n",
              "      <td>0.085482</td>\n",
              "      <td>0.450139</td>\n",
              "      <td>0.457034</td>\n",
              "      <td>0.663219</td>\n",
              "      <td>-0.305010</td>\n",
              "      <td>0.767307</td>\n",
              "      <td>0.942687</td>\n",
              "      <td>1.000551e-06</td>\n",
              "      <td>0.0</td>\n",
              "      <td>0.290537</td>\n",
              "      <td>0.688374</td>\n",
              "      <td>0.549348</td>\n",
              "      <td>1.0</td>\n",
              "      <td>0.324341</td>\n",
              "      <td>0.046754</td>\n",
              "      <td>-0.461603</td>\n",
              "      <td>0.571429</td>\n",
              "      <td>0.655369</td>\n",
              "      <td>0.834594</td>\n",
              "      <td>-0.653568</td>\n",
              "      <td>-0.483167</td>\n",
              "      <td>-0.538935</td>\n",
              "      <td>1.247153</td>\n",
              "      <td>0.414248</td>\n",
              "      <td>-0.468285</td>\n",
              "      <td>-0.931875</td>\n",
              "    </tr>\n",
              "    <tr>\n",
              "      <th>2</th>\n",
              "      <td>t_949441c4-4920-4eed-b929-2d67d37b7bd9</td>\n",
              "      <td>-1.332280</td>\n",
              "      <td>0.485294</td>\n",
              "      <td>0.001032</td>\n",
              "      <td>0.002274</td>\n",
              "      <td>0.243778</td>\n",
              "      <td>0.229295</td>\n",
              "      <td>0.290262</td>\n",
              "      <td>-1.181899</td>\n",
              "      <td>0.958647</td>\n",
              "      <td>0.846197</td>\n",
              "      <td>5.658840e-02</td>\n",
              "      <td>0.0</td>\n",
              "      <td>0.259133</td>\n",
              "      <td>0.182698</td>\n",
              "      <td>0.332016</td>\n",
              "      <td>1.0</td>\n",
              "      <td>0.472339</td>\n",
              "      <td>0.115356</td>\n",
              "      <td>1.081277</td>\n",
              "      <td>0.571429</td>\n",
              "      <td>0.293100</td>\n",
              "      <td>0.846650</td>\n",
              "      <td>0.123691</td>\n",
              "      <td>-2.692681</td>\n",
              "      <td>-0.770798</td>\n",
              "      <td>1.533066</td>\n",
              "      <td>-0.173705</td>\n",
              "      <td>-0.402540</td>\n",
              "      <td>1.181761</td>\n",
              "    </tr>\n",
              "    <tr>\n",
              "      <th>3</th>\n",
              "      <td>t_63eae5ac-744a-46ee-b719-0db8e70d6f7f</td>\n",
              "      <td>-0.712162</td>\n",
              "      <td>0.485294</td>\n",
              "      <td>0.558944</td>\n",
              "      <td>0.005024</td>\n",
              "      <td>0.338580</td>\n",
              "      <td>0.331703</td>\n",
              "      <td>0.348846</td>\n",
              "      <td>-0.795663</td>\n",
              "      <td>0.886674</td>\n",
              "      <td>0.904784</td>\n",
              "      <td>1.998796e-10</td>\n",
              "      <td>0.0</td>\n",
              "      <td>0.381728</td>\n",
              "      <td>0.091084</td>\n",
              "      <td>0.185455</td>\n",
              "      <td>1.0</td>\n",
              "      <td>0.575982</td>\n",
              "      <td>0.137590</td>\n",
              "      <td>-0.657413</td>\n",
              "      <td>0.571429</td>\n",
              "      <td>0.387131</td>\n",
              "      <td>0.920349</td>\n",
              "      <td>0.335177</td>\n",
              "      <td>-2.631788</td>\n",
              "      <td>-1.033223</td>\n",
              "      <td>1.549514</td>\n",
              "      <td>-0.036511</td>\n",
              "      <td>-0.488062</td>\n",
              "      <td>1.028883</td>\n",
              "    </tr>\n",
              "    <tr>\n",
              "      <th>4</th>\n",
              "      <td>t_a0747d21-6042-4af7-a21d-aa7cd1a8094e</td>\n",
              "      <td>-1.629474</td>\n",
              "      <td>0.573529</td>\n",
              "      <td>-0.356946</td>\n",
              "      <td>0.962717</td>\n",
              "      <td>0.130125</td>\n",
              "      <td>0.092335</td>\n",
              "      <td>0.170027</td>\n",
              "      <td>-2.024206</td>\n",
              "      <td>0.005674</td>\n",
              "      <td>1.072822</td>\n",
              "      <td>9.604511e-01</td>\n",
              "      <td>0.0</td>\n",
              "      <td>0.092290</td>\n",
              "      <td>-5.961526</td>\n",
              "      <td>0.205882</td>\n",
              "      <td>1.0</td>\n",
              "      <td>0.882453</td>\n",
              "      <td>0.039092</td>\n",
              "      <td>-1.431127</td>\n",
              "      <td>0.428571</td>\n",
              "      <td>0.030858</td>\n",
              "      <td>2.238796</td>\n",
              "      <td>-3.259609</td>\n",
              "      <td>-2.378984</td>\n",
              "      <td>1.288895</td>\n",
              "      <td>-1.053248</td>\n",
              "      <td>-3.132838</td>\n",
              "      <td>0.946820</td>\n",
              "      <td>-0.623612</td>\n",
              "    </tr>\n",
              "  </tbody>\n",
              "</table>\n",
              "</div>"
            ],
            "text/plain": [
              "                                 track_id  ...  acoustic_vector_7\n",
              "0  t_7f435320-5d3b-497d-9346-0c97429af2b9  ...          -0.243705\n",
              "1  t_2a7b6393-ebec-4e1f-a53f-2ad842532c99  ...          -0.931875\n",
              "2  t_949441c4-4920-4eed-b929-2d67d37b7bd9  ...           1.181761\n",
              "3  t_63eae5ac-744a-46ee-b719-0db8e70d6f7f  ...           1.028883\n",
              "4  t_a0747d21-6042-4af7-a21d-aa7cd1a8094e  ...          -0.623612\n",
              "\n",
              "[5 rows x 30 columns]"
            ]
          },
          "metadata": {
            "tags": []
          },
          "execution_count": 82
        }
      ]
    },
    {
      "cell_type": "code",
      "metadata": {
        "id": "XsYh8yd7CZtZ"
      },
      "source": [
        "# Join the two together\n",
        "session_data = (\n",
        "    training_set[['session_id','session_position','track_id_clean', 'skipped']]\n",
        "    .merge(\n",
        "        track_data,\n",
        "        how='left',\n",
        "        left_on=['track_id_clean'],\n",
        "        right_on=['track_id']\n",
        "    ).drop(columns='track_id_clean')\n",
        ")\n",
        "#session_data.head()"
      ],
      "execution_count": 84,
      "outputs": []
    },
    {
      "cell_type": "code",
      "metadata": {
        "id": "5EW1Sd3GCZta"
      },
      "source": [
        "full_session_data = pd.concat((\n",
        "    session_data,\n",
        "    session_data.drop(columns=['track_id'])\\\n",
        "        .groupby('session_id')\\\n",
        "        .shift(1)\\\n",
        "        .rename(columns={c:f\"previous_{c}\" for c in session_data.columns})\n",
        "), axis=1)\n",
        "#full_session_data.head()"
      ],
      "execution_count": 85,
      "outputs": []
    },
    {
      "cell_type": "code",
      "metadata": {
        "id": "PhoW5f03CZta"
      },
      "source": [
        "# Examine the columns\n",
        "#full_session_data.info()"
      ],
      "execution_count": 86,
      "outputs": []
    },
    {
      "cell_type": "code",
      "metadata": {
        "id": "P182OFFjCZtb"
      },
      "source": [
        "# Split the data:\n",
        "# df -> X, y -> Train, Test, Val\n",
        "X = full_session_data.drop(\n",
        "    columns=[\"skipped\",\"session_id\",\"track_id\"]\n",
        ").fillna(-9999)\n",
        "y = full_session_data.skipped\n",
        "X_train, X_test, y_train, y_test = train_test_split(\n",
        "    X,\n",
        "    y,\n",
        "    test_size=0.2,\n",
        "    random_state=2\n",
        ")\n",
        "X_train, X_val, y_train, y_val = train_test_split(\n",
        "    X_train,\n",
        "    y_train,\n",
        "    test_size=0.2,\n",
        "    random_state=2\n",
        ")\n",
        "#X.head(20)"
      ],
      "execution_count": 87,
      "outputs": []
    },
    {
      "cell_type": "code",
      "metadata": {
        "id": "DkGZAxFSCZtb"
      },
      "source": [
        "from sklearn.preprocessing import StandardScaler"
      ],
      "execution_count": 88,
      "outputs": []
    },
    {
      "cell_type": "code",
      "metadata": {
        "id": "ovYQS07xCZtb",
        "colab": {
          "base_uri": "https://localhost:8080/"
        },
        "outputId": "d356abe1-a87f-4004-9e98-0b5ee17daaab"
      },
      "source": [
        "# Train a Logistic Regression model and score\n",
        "scaler = StandardScaler().fit(X_train)\n",
        "sX_train = scaler.transform(X_train)\n",
        "sX_val = scaler.transform(X_val)\n",
        "sX_test = scaler.transform(X_test)\n",
        "\n",
        "log = LogisticRegressionCV(\n",
        "    cv=3\n",
        ").fit(\n",
        "    sX_train,\n",
        "    y_train\n",
        ")\n",
        "\n",
        "print(\"Log Train score: %s\" % log.score(sX_train,y_train))\n",
        "print(\"Log Val score:   %s\" % log.score(sX_val,y_val))\n",
        "print(\"Log Test score:  %s\" % log.score(sX_test,y_test))"
      ],
      "execution_count": 89,
      "outputs": [
        {
          "output_type": "stream",
          "text": [
            "Log Train score: 0.5337900095864784\n",
            "Log Val score:   0.527753992777633\n",
            "Log Test score:  0.5309745055992375\n"
          ],
          "name": "stdout"
        }
      ]
    },
    {
      "cell_type": "code",
      "metadata": {
        "id": "iSE9JS9BCZtc",
        "colab": {
          "base_uri": "https://localhost:8080/"
        },
        "outputId": "531df592-b16f-49cd-f7f5-5dc31fa52753"
      },
      "source": [
        "log"
      ],
      "execution_count": 90,
      "outputs": [
        {
          "output_type": "execute_result",
          "data": {
            "text/plain": [
              "LogisticRegressionCV(Cs=10, class_weight=None, cv=3, dual=False,\n",
              "                     fit_intercept=True, intercept_scaling=1.0, l1_ratios=None,\n",
              "                     max_iter=100, multi_class='auto', n_jobs=None,\n",
              "                     penalty='l2', random_state=None, refit=True, scoring=None,\n",
              "                     solver='lbfgs', tol=0.0001, verbose=0)"
            ]
          },
          "metadata": {
            "tags": []
          },
          "execution_count": 90
        }
      ]
    },
    {
      "cell_type": "code",
      "metadata": {
        "id": "LFwXfSunCZtc",
        "colab": {
          "base_uri": "https://localhost:8080/"
        },
        "outputId": "6c87322a-b523-4121-f506-225e6f7b7395"
      },
      "source": [
        "for pair in sorted(zip(X.columns,log.coef_[0]),key=lambda p: np.abs(p[1]),reverse=True):\n",
        "    print(\"%30s | % .8f\" % pair)"
      ],
      "execution_count": 91,
      "outputs": [
        {
          "output_type": "stream",
          "text": [
            "              previous_skipped |  0.06306652\n",
            "     previous_session_position |  0.06172265\n",
            "              session_position |  0.03304124\n",
            "             previous_duration |  0.00099223\n",
            "       previous_dyn_range_mean |  0.00097312\n",
            "    previous_acoustic_vector_3 |  0.00096513\n",
            "    previous_acoustic_vector_7 |  0.00096280\n",
            "    previous_acoustic_vector_1 |  0.00096227\n",
            "    previous_acoustic_vector_2 |  0.00095908\n",
            "             previous_loudness |  0.00095761\n",
            "                previous_tempo |  0.00093186\n",
            "           previous_bounciness |  0.00093014\n",
            "         previous_danceability |  0.00092788\n",
            "        previous_beat_strength |  0.00092751\n",
            "          previous_speechiness |  0.00092600\n",
            "               previous_energy |  0.00092569\n",
            "            previous_mechanism |  0.00092477\n",
            "       previous_time_signature |  0.00092224\n",
            "             previous_liveness |  0.00092197\n",
            "             previous_flatness |  0.00092147\n",
            "                  previous_key |  0.00091799\n",
            "              previous_valence |  0.00091768\n",
            "         previous_release_year |  0.00091651\n",
            "             previous_is_major |  0.00091606\n",
            "     previous_instrumentalness |  0.00091267\n",
            "previous_us_popularity_estimate |  0.00091169\n",
            "             previous_organism |  0.00090907\n",
            "         previous_acousticness |  0.00089966\n",
            "    previous_acoustic_vector_5 |  0.00088342\n",
            "    previous_acoustic_vector_4 |  0.00087039\n",
            "    previous_acoustic_vector_6 |  0.00086468\n",
            "    previous_acoustic_vector_0 |  0.00080873\n",
            "                      duration |  0.00009799\n",
            "             acoustic_vector_3 |  0.00007579\n",
            "             acoustic_vector_0 | -0.00006657\n",
            "             acoustic_vector_7 |  0.00006533\n",
            "             acoustic_vector_1 |  0.00005956\n",
            "             acoustic_vector_2 |  0.00005222\n",
            "                dyn_range_mean |  0.00004941\n",
            "                      loudness |  0.00004654\n",
            "                   speechiness |  0.00004192\n",
            "                         tempo |  0.00004072\n",
            "                        energy |  0.00003622\n",
            "                      liveness |  0.00003302\n",
            "                    bounciness |  0.00003221\n",
            "                           key |  0.00003169\n",
            "                time_signature |  0.00003118\n",
            "                  danceability |  0.00003008\n",
            "                      flatness |  0.00002951\n",
            "                 beat_strength |  0.00002848\n",
            "                      organism |  0.00002738\n",
            "                       valence |  0.00002724\n",
            "             acoustic_vector_6 | -0.00002696\n",
            "             acoustic_vector_5 | -0.00002578\n",
            "                  release_year |  0.00002263\n",
            "              instrumentalness |  0.00002208\n",
            "                     mechanism |  0.00002032\n",
            "             acoustic_vector_4 | -0.00001042\n",
            "                  acousticness |  0.00000891\n",
            "        us_popularity_estimate |  0.00000852\n",
            "                      is_major |  0.00000192\n"
          ],
          "name": "stdout"
        }
      ]
    },
    {
      "cell_type": "code",
      "metadata": {
        "id": "9KELRWR9CZtc",
        "colab": {
          "base_uri": "https://localhost:8080/"
        },
        "outputId": "f2e31033-c55d-4089-91c9-8e2314a3a93e"
      },
      "source": [
        "# Train a Random Forest model and score\n",
        "rfc = RandomForestClassifier(\n",
        "    n_estimators=100\n",
        ").fit(\n",
        "    X_train,\n",
        "    y_train\n",
        ")\n",
        "\n",
        "print(\"RFC Train score: %s\" % rfc.score(X_train,y_train))\n",
        "print(\"RFC Val score:   %s\" % rfc.score(X_val,y_val))\n",
        "print(\"RFC Test score:  %s\" % rfc.score(X_test,y_test))"
      ],
      "execution_count": 92,
      "outputs": [
        {
          "output_type": "stream",
          "text": [
            "RFC Train score: 0.9653490688085776\n",
            "RFC Val score:   0.7085737686608838\n",
            "RFC Test score:  0.7080652847271861\n"
          ],
          "name": "stdout"
        }
      ]
    },
    {
      "cell_type": "code",
      "metadata": {
        "id": "R24hKEvLCZtd",
        "colab": {
          "base_uri": "https://localhost:8080/"
        },
        "outputId": "57402302-a8a6-4494-8fff-5d3177401373"
      },
      "source": [
        "for pair in sorted(zip(X.columns,rfc.feature_importances_),key=lambda p:p[1],reverse=True):\n",
        "    print(\"%30s | % .8f\" % pair)"
      ],
      "execution_count": null,
      "outputs": [
        {
          "output_type": "stream",
          "text": [
            "              previous_skipped |  0.20502936\n",
            "     previous_session_position |  0.04348125\n",
            "              session_position |  0.04338259\n",
            "        us_popularity_estimate |  0.01663231\n",
            "                      duration |  0.01500732\n",
            "                      liveness |  0.01496414\n",
            "                         tempo |  0.01471241\n",
            "                       valence |  0.01453007\n",
            "                   speechiness |  0.01450806\n",
            "                      loudness |  0.01443886\n",
            "             acoustic_vector_1 |  0.01432535\n",
            "                  acousticness |  0.01430668\n",
            "             acoustic_vector_6 |  0.01427219\n",
            "                      flatness |  0.01424807\n",
            "             previous_duration |  0.01414735\n",
            "             acoustic_vector_2 |  0.01412019\n",
            "             previous_loudness |  0.01407238\n",
            "                     mechanism |  0.01404516\n",
            "             acoustic_vector_7 |  0.01400500\n",
            "                        energy |  0.01399126\n",
            "previous_us_popularity_estimate |  0.01397333\n",
            "             acoustic_vector_0 |  0.01389243\n",
            "             acoustic_vector_5 |  0.01387158\n",
            "             acoustic_vector_4 |  0.01380366\n",
            "             previous_liveness |  0.01376716\n",
            "                      organism |  0.01368335\n",
            "                previous_tempo |  0.01348236\n",
            "             acoustic_vector_3 |  0.01347644\n",
            "                  danceability |  0.01343055\n",
            "                dyn_range_mean |  0.01341271\n",
            "    previous_acoustic_vector_1 |  0.01337247\n",
            "                 beat_strength |  0.01335758\n",
            "              previous_valence |  0.01335038\n",
            "               previous_energy |  0.01327010\n",
            "         previous_acousticness |  0.01325026\n",
            "    previous_acoustic_vector_6 |  0.01319400\n",
            "          previous_speechiness |  0.01319238\n",
            "    previous_acoustic_vector_2 |  0.01316092\n",
            "             previous_flatness |  0.01316029\n",
            "                    bounciness |  0.01312277\n",
            "    previous_acoustic_vector_7 |  0.01310436\n",
            "    previous_acoustic_vector_5 |  0.01307244\n",
            "    previous_acoustic_vector_0 |  0.01300430\n",
            "            previous_mechanism |  0.01281547\n",
            "    previous_acoustic_vector_4 |  0.01273320\n",
            "    previous_acoustic_vector_3 |  0.01260309\n",
            "             previous_organism |  0.01257261\n",
            "         previous_danceability |  0.01244799\n",
            "       previous_dyn_range_mean |  0.01221106\n",
            "        previous_beat_strength |  0.01220132\n",
            "           previous_bounciness |  0.01209617\n",
            "              instrumentalness |  0.00874767\n",
            "                           key |  0.00852589\n",
            "                  previous_key |  0.00805078\n",
            "     previous_instrumentalness |  0.00795727\n",
            "                  release_year |  0.00743975\n",
            "         previous_release_year |  0.00670338\n",
            "                      is_major |  0.00202930\n",
            "             previous_is_major |  0.00183801\n",
            "                time_signature |  0.00128476\n",
            "       previous_time_signature |  0.00111646\n"
          ],
          "name": "stdout"
        }
      ]
    },
    {
      "cell_type": "code",
      "metadata": {
        "id": "8x5vFZbECZte",
        "colab": {
          "base_uri": "https://localhost:8080/"
        },
        "outputId": "d47cfb20-3f8b-4eb7-fa3b-a833a353a75f"
      },
      "source": [
        "# Train a XGBoost model and score\r\n",
        "xgb = XGBClassifier(\r\n",
        "    n_estimators=100000\r\n",
        ").fit(\r\n",
        "    X_train,\r\n",
        "    y_train,\r\n",
        "    eval_set=[(X_train, y_train),(X_val, y_val)],\r\n",
        "    early_stopping_rounds=10,\r\n",
        "    verbose=True\r\n",
        ")\r\n",
        "\r\n",
        "print(\"XGB Train score: %s\" % xgb.score(X_train,y_train))\r\n",
        "print(\"XGB Val score:   %s\" % xgb.score(X_val,y_val))\r\n",
        "print(\"XGB Test score:  %s\" % xgb.score(X_test,y_test))"
      ],
      "execution_count": null,
      "outputs": [
        {
          "output_type": "stream",
          "text": [
            "[0]\tvalidation_0-error:0.270637\tvalidation_1-error:0.273221\n",
            "Multiple eval metrics have been passed: 'validation_1-error' will be used for early stopping.\n",
            "\n",
            "Will train until validation_1-error hasn't improved in 10 rounds.\n",
            "[1]\tvalidation_0-error:0.270637\tvalidation_1-error:0.273221\n",
            "[2]\tvalidation_0-error:0.270637\tvalidation_1-error:0.273221\n",
            "[3]\tvalidation_0-error:0.270637\tvalidation_1-error:0.273221\n",
            "[4]\tvalidation_0-error:0.270637\tvalidation_1-error:0.273221\n",
            "[5]\tvalidation_0-error:0.270637\tvalidation_1-error:0.273221\n",
            "[6]\tvalidation_0-error:0.270637\tvalidation_1-error:0.273221\n",
            "[7]\tvalidation_0-error:0.270869\tvalidation_1-error:0.273408\n",
            "[8]\tvalidation_0-error:0.270869\tvalidation_1-error:0.273408\n",
            "[9]\tvalidation_0-error:0.27086\tvalidation_1-error:0.273296\n",
            "[10]\tvalidation_0-error:0.270851\tvalidation_1-error:0.273333\n",
            "Stopping. Best iteration:\n",
            "[0]\tvalidation_0-error:0.270637\tvalidation_1-error:0.273221\n",
            "\n",
            "XGB Train score: 0.729363476447977\n",
            "XGB Val score:   0.7267786009456089\n",
            "XGB Test score:  0.7283774124374554\n"
          ],
          "name": "stdout"
        }
      ]
    },
    {
      "cell_type": "code",
      "metadata": {
        "colab": {
          "base_uri": "https://localhost:8080/"
        },
        "id": "3Z6mJMRXXjqh",
        "outputId": "4584a8cf-1d22-4173-fbae-bcf2f7853b1f"
      },
      "source": [
        "for pair in sorted(zip(X.columns,xgb.feature_importances_),key=lambda p:p[1],reverse=True):\r\n",
        "    print(\"%30s | % .8f\" % pair)"
      ],
      "execution_count": null,
      "outputs": [
        {
          "output_type": "stream",
          "text": [
            "              previous_skipped |  0.96810305\n",
            "              session_position |  0.00789363\n",
            "        us_popularity_estimate |  0.00510749\n",
            "                 beat_strength |  0.00372679\n",
            "             previous_duration |  0.00319069\n",
            "    previous_acoustic_vector_7 |  0.00300647\n",
            "    previous_acoustic_vector_0 |  0.00279730\n",
            "previous_us_popularity_estimate |  0.00234995\n",
            "    previous_acoustic_vector_4 |  0.00192855\n",
            "                      duration |  0.00189618\n",
            "                  release_year |  0.00000000\n",
            "                  acousticness |  0.00000000\n",
            "                    bounciness |  0.00000000\n",
            "                  danceability |  0.00000000\n",
            "                dyn_range_mean |  0.00000000\n",
            "                        energy |  0.00000000\n",
            "                      flatness |  0.00000000\n",
            "              instrumentalness |  0.00000000\n",
            "                           key |  0.00000000\n",
            "                      liveness |  0.00000000\n",
            "                      loudness |  0.00000000\n",
            "                     mechanism |  0.00000000\n",
            "                      is_major |  0.00000000\n",
            "                      organism |  0.00000000\n",
            "                   speechiness |  0.00000000\n",
            "                         tempo |  0.00000000\n",
            "                time_signature |  0.00000000\n",
            "                       valence |  0.00000000\n",
            "             acoustic_vector_0 |  0.00000000\n",
            "             acoustic_vector_1 |  0.00000000\n",
            "             acoustic_vector_2 |  0.00000000\n",
            "             acoustic_vector_3 |  0.00000000\n",
            "             acoustic_vector_4 |  0.00000000\n",
            "             acoustic_vector_5 |  0.00000000\n",
            "             acoustic_vector_6 |  0.00000000\n",
            "             acoustic_vector_7 |  0.00000000\n",
            "     previous_session_position |  0.00000000\n",
            "         previous_release_year |  0.00000000\n",
            "         previous_acousticness |  0.00000000\n",
            "        previous_beat_strength |  0.00000000\n",
            "           previous_bounciness |  0.00000000\n",
            "         previous_danceability |  0.00000000\n",
            "       previous_dyn_range_mean |  0.00000000\n",
            "               previous_energy |  0.00000000\n",
            "             previous_flatness |  0.00000000\n",
            "     previous_instrumentalness |  0.00000000\n",
            "                  previous_key |  0.00000000\n",
            "             previous_liveness |  0.00000000\n",
            "             previous_loudness |  0.00000000\n",
            "            previous_mechanism |  0.00000000\n",
            "             previous_is_major |  0.00000000\n",
            "             previous_organism |  0.00000000\n",
            "          previous_speechiness |  0.00000000\n",
            "                previous_tempo |  0.00000000\n",
            "       previous_time_signature |  0.00000000\n",
            "              previous_valence |  0.00000000\n",
            "    previous_acoustic_vector_1 |  0.00000000\n",
            "    previous_acoustic_vector_2 |  0.00000000\n",
            "    previous_acoustic_vector_3 |  0.00000000\n",
            "    previous_acoustic_vector_5 |  0.00000000\n",
            "    previous_acoustic_vector_6 |  0.00000000\n"
          ],
          "name": "stdout"
        }
      ]
    },
    {
      "cell_type": "code",
      "metadata": {
        "colab": {
          "base_uri": "https://localhost:8080/"
        },
        "id": "73at1QGiXrm4",
        "outputId": "721e4487-32a8-498f-d1b3-35a92ea8c9e7"
      },
      "source": [
        "# Train a LightGBM model and score\r\n",
        "lgbm = LGBMClassifier(\r\n",
        "    n_estimators=100000\r\n",
        ").fit(\r\n",
        "    X_train,\r\n",
        "    y_train,\r\n",
        "    eval_set=[(X_train, y_train),(X_val, y_val)],\r\n",
        "    early_stopping_rounds=10,\r\n",
        "    verbose=True\r\n",
        ")\r\n",
        "\r\n",
        "print()\r\n",
        "print(\"LGBM Train score: %s\" % lgbm.score(X_train,y_train))\r\n",
        "print(\"LGBM Val score:   %s\" % lgbm.score(X_val,y_val))\r\n",
        "print(\"LGBM Test score:  %s\" % lgbm.score(X_test,y_test))"
      ],
      "execution_count": null,
      "outputs": [
        {
          "output_type": "stream",
          "text": [
            "[1]\ttraining's binary_logloss: 0.671615\tvalid_1's binary_logloss: 0.671996\n",
            "Training until validation scores don't improve for 10 rounds.\n",
            "[2]\ttraining's binary_logloss: 0.65462\tvalid_1's binary_logloss: 0.6553\n",
            "[3]\ttraining's binary_logloss: 0.640663\tvalid_1's binary_logloss: 0.641689\n",
            "[4]\ttraining's binary_logloss: 0.62914\tvalid_1's binary_logloss: 0.630543\n",
            "[5]\ttraining's binary_logloss: 0.619669\tvalid_1's binary_logloss: 0.621397\n",
            "[6]\ttraining's binary_logloss: 0.611855\tvalid_1's binary_logloss: 0.613949\n",
            "[7]\ttraining's binary_logloss: 0.605367\tvalid_1's binary_logloss: 0.607797\n",
            "[8]\ttraining's binary_logloss: 0.60001\tvalid_1's binary_logloss: 0.602763\n",
            "[9]\ttraining's binary_logloss: 0.595509\tvalid_1's binary_logloss: 0.598613\n",
            "[10]\ttraining's binary_logloss: 0.591789\tvalid_1's binary_logloss: 0.595263\n",
            "[11]\ttraining's binary_logloss: 0.588704\tvalid_1's binary_logloss: 0.592432\n",
            "[12]\ttraining's binary_logloss: 0.586083\tvalid_1's binary_logloss: 0.590143\n",
            "[13]\ttraining's binary_logloss: 0.583874\tvalid_1's binary_logloss: 0.588296\n",
            "[14]\ttraining's binary_logloss: 0.582011\tvalid_1's binary_logloss: 0.586733\n",
            "[15]\ttraining's binary_logloss: 0.580429\tvalid_1's binary_logloss: 0.585422\n",
            "[16]\ttraining's binary_logloss: 0.579115\tvalid_1's binary_logloss: 0.58444\n",
            "[17]\ttraining's binary_logloss: 0.577949\tvalid_1's binary_logloss: 0.583528\n",
            "[18]\ttraining's binary_logloss: 0.576957\tvalid_1's binary_logloss: 0.582821\n",
            "[19]\ttraining's binary_logloss: 0.576027\tvalid_1's binary_logloss: 0.582228\n",
            "[20]\ttraining's binary_logloss: 0.575238\tvalid_1's binary_logloss: 0.58172\n",
            "[21]\ttraining's binary_logloss: 0.574546\tvalid_1's binary_logloss: 0.581301\n",
            "[22]\ttraining's binary_logloss: 0.573894\tvalid_1's binary_logloss: 0.580928\n",
            "[23]\ttraining's binary_logloss: 0.573342\tvalid_1's binary_logloss: 0.580668\n",
            "[24]\ttraining's binary_logloss: 0.572863\tvalid_1's binary_logloss: 0.580373\n",
            "[25]\ttraining's binary_logloss: 0.572422\tvalid_1's binary_logloss: 0.58023\n",
            "[26]\ttraining's binary_logloss: 0.571954\tvalid_1's binary_logloss: 0.580056\n",
            "[27]\ttraining's binary_logloss: 0.571561\tvalid_1's binary_logloss: 0.579872\n",
            "[28]\ttraining's binary_logloss: 0.571171\tvalid_1's binary_logloss: 0.579822\n",
            "[29]\ttraining's binary_logloss: 0.570791\tvalid_1's binary_logloss: 0.579751\n",
            "[30]\ttraining's binary_logloss: 0.570421\tvalid_1's binary_logloss: 0.579706\n",
            "[31]\ttraining's binary_logloss: 0.570068\tvalid_1's binary_logloss: 0.57962\n",
            "[32]\ttraining's binary_logloss: 0.56972\tvalid_1's binary_logloss: 0.579579\n",
            "[33]\ttraining's binary_logloss: 0.569411\tvalid_1's binary_logloss: 0.579565\n",
            "[34]\ttraining's binary_logloss: 0.569075\tvalid_1's binary_logloss: 0.579506\n",
            "[35]\ttraining's binary_logloss: 0.568821\tvalid_1's binary_logloss: 0.579426\n",
            "[36]\ttraining's binary_logloss: 0.568522\tvalid_1's binary_logloss: 0.579413\n",
            "[37]\ttraining's binary_logloss: 0.568165\tvalid_1's binary_logloss: 0.579328\n",
            "[38]\ttraining's binary_logloss: 0.56787\tvalid_1's binary_logloss: 0.579293\n",
            "[39]\ttraining's binary_logloss: 0.567529\tvalid_1's binary_logloss: 0.579182\n",
            "[40]\ttraining's binary_logloss: 0.567297\tvalid_1's binary_logloss: 0.579192\n",
            "[41]\ttraining's binary_logloss: 0.566987\tvalid_1's binary_logloss: 0.57919\n",
            "[42]\ttraining's binary_logloss: 0.566678\tvalid_1's binary_logloss: 0.579164\n",
            "[43]\ttraining's binary_logloss: 0.566341\tvalid_1's binary_logloss: 0.579112\n",
            "[44]\ttraining's binary_logloss: 0.566068\tvalid_1's binary_logloss: 0.57907\n",
            "[45]\ttraining's binary_logloss: 0.565767\tvalid_1's binary_logloss: 0.579046\n",
            "[46]\ttraining's binary_logloss: 0.565474\tvalid_1's binary_logloss: 0.578966\n",
            "[47]\ttraining's binary_logloss: 0.565183\tvalid_1's binary_logloss: 0.57895\n",
            "[48]\ttraining's binary_logloss: 0.564939\tvalid_1's binary_logloss: 0.57892\n",
            "[49]\ttraining's binary_logloss: 0.564624\tvalid_1's binary_logloss: 0.578869\n",
            "[50]\ttraining's binary_logloss: 0.564323\tvalid_1's binary_logloss: 0.578841\n",
            "[51]\ttraining's binary_logloss: 0.564015\tvalid_1's binary_logloss: 0.57879\n",
            "[52]\ttraining's binary_logloss: 0.563785\tvalid_1's binary_logloss: 0.578738\n",
            "[53]\ttraining's binary_logloss: 0.563553\tvalid_1's binary_logloss: 0.578722\n",
            "[54]\ttraining's binary_logloss: 0.563311\tvalid_1's binary_logloss: 0.578761\n",
            "[55]\ttraining's binary_logloss: 0.563033\tvalid_1's binary_logloss: 0.578687\n",
            "[56]\ttraining's binary_logloss: 0.562765\tvalid_1's binary_logloss: 0.578631\n",
            "[57]\ttraining's binary_logloss: 0.562495\tvalid_1's binary_logloss: 0.578614\n",
            "[58]\ttraining's binary_logloss: 0.562232\tvalid_1's binary_logloss: 0.57858\n",
            "[59]\ttraining's binary_logloss: 0.562039\tvalid_1's binary_logloss: 0.578661\n",
            "[60]\ttraining's binary_logloss: 0.561784\tvalid_1's binary_logloss: 0.578641\n",
            "[61]\ttraining's binary_logloss: 0.561487\tvalid_1's binary_logloss: 0.578641\n",
            "[62]\ttraining's binary_logloss: 0.561285\tvalid_1's binary_logloss: 0.578679\n",
            "[63]\ttraining's binary_logloss: 0.561014\tvalid_1's binary_logloss: 0.578754\n",
            "[64]\ttraining's binary_logloss: 0.560738\tvalid_1's binary_logloss: 0.578678\n",
            "[65]\ttraining's binary_logloss: 0.560481\tvalid_1's binary_logloss: 0.578644\n",
            "[66]\ttraining's binary_logloss: 0.560236\tvalid_1's binary_logloss: 0.578661\n",
            "[67]\ttraining's binary_logloss: 0.56002\tvalid_1's binary_logloss: 0.578655\n",
            "[68]\ttraining's binary_logloss: 0.55975\tvalid_1's binary_logloss: 0.578642\n",
            "Early stopping, best iteration is:\n",
            "[58]\ttraining's binary_logloss: 0.562232\tvalid_1's binary_logloss: 0.57858\n",
            "\n",
            "LGBM Train score: 0.7299963701683684\n",
            "LGBM Val score:   0.7269275157291241\n",
            "LGBM Test score:  0.7281093638313081\n"
          ],
          "name": "stdout"
        }
      ]
    },
    {
      "cell_type": "markdown",
      "metadata": {
        "id": "KoWkLXFIX7Lq"
      },
      "source": [
        "LightGBM Classifier performance:\r\n",
        "\r\n",
        "LGBM Train score: 0.7304338114162858\r\n",
        "\r\n",
        "LGBM Val score:   0.7267041435538513\r\n",
        "\r\n",
        "LGBM Test score:  0.7281391470097689\r\n",
        "\r\n",
        "LGBM seems to have similar performance to XGB model (but faster).\r\n",
        "\r\n",
        "Let's examine feature importance..."
      ]
    },
    {
      "cell_type": "code",
      "metadata": {
        "colab": {
          "base_uri": "https://localhost:8080/"
        },
        "id": "Q_hZp85CXwga",
        "outputId": "b60e2708-bb0c-4776-9c0d-dd7c0fbf1ce2"
      },
      "source": [
        "for pair in sorted(zip(X.columns,lgbm.feature_importances_),key=lambda p:p[1],reverse=True):\r\n",
        "    print(\"%34s | % 5d\" % pair)"
      ],
      "execution_count": null,
      "outputs": [
        {
          "output_type": "stream",
          "text": [
            "            us_popularity_estimate |    99\n",
            "                  session_position |    76\n",
            "                          duration |    63\n",
            "        previous_acoustic_vector_0 |    53\n",
            "   previous_us_popularity_estimate |    52\n",
            "                 previous_duration |    47\n",
            "                  previous_skipped |    45\n",
            "                      release_year |    43\n",
            "                      acousticness |    40\n",
            "                          flatness |    37\n",
            "                         mechanism |    37\n",
            "                     beat_strength |    35\n",
            "                 acoustic_vector_7 |    35\n",
            "        previous_acoustic_vector_4 |    35\n",
            "                 acoustic_vector_1 |    34\n",
            "                 acoustic_vector_4 |    34\n",
            "         previous_instrumentalness |    34\n",
            "                 previous_loudness |    33\n",
            "        previous_acoustic_vector_2 |    33\n",
            "                  instrumentalness |    32\n",
            "                 acoustic_vector_0 |    32\n",
            "                 acoustic_vector_3 |    32\n",
            "                 acoustic_vector_6 |    30\n",
            "             previous_danceability |    29\n",
            "                          liveness |    28\n",
            "                          organism |    28\n",
            "                 previous_liveness |    28\n",
            "                previous_mechanism |    27\n",
            "                    previous_tempo |    27\n",
            "                          loudness |    26\n",
            "                           valence |    26\n",
            "             previous_acousticness |    26\n",
            "            previous_beat_strength |    26\n",
            "               previous_bounciness |    26\n",
            "              previous_speechiness |    26\n",
            "        previous_acoustic_vector_6 |    26\n",
            "                            energy |    25\n",
            "                      danceability |    24\n",
            "                 previous_flatness |    24\n",
            "                 previous_organism |    24\n",
            "        previous_acoustic_vector_1 |    24\n",
            "                             tempo |    23\n",
            "        previous_acoustic_vector_5 |    23\n",
            "                       speechiness |    22\n",
            "                 acoustic_vector_2 |    22\n",
            "        previous_acoustic_vector_7 |    22\n",
            "                 acoustic_vector_5 |    21\n",
            "                   previous_energy |    19\n",
            "                    dyn_range_mean |    18\n",
            "                  previous_valence |    18\n",
            "             previous_release_year |    17\n",
            "        previous_acoustic_vector_3 |    17\n",
            "                        bounciness |    15\n",
            "                               key |    13\n",
            "           previous_dyn_range_mean |    12\n",
            "                      previous_key |    11\n",
            "                          is_major |     4\n",
            "                    time_signature |     1\n",
            "                 previous_is_major |     1\n",
            "         previous_session_position |     0\n",
            "           previous_time_signature |     0\n"
          ],
          "name": "stdout"
        }
      ]
    },
    {
      "cell_type": "markdown",
      "metadata": {
        "id": "DacfDhCGYLvX"
      },
      "source": [
        "### Top 5 feature"
      ]
    },
    {
      "cell_type": "code",
      "metadata": {
        "colab": {
          "base_uri": "https://localhost:8080/"
        },
        "id": "J8PZG4AfYGAk",
        "outputId": "643fe786-f01b-4d1b-eb37-5d240145a14b"
      },
      "source": [
        "lgbm_feature_importances = [[p[0], int(p[1])] for p in sorted(zip(X.columns,lgbm.feature_importances_),key=lambda p:p[1],reverse=True)]\r\n",
        "lgbm_feature_importances[:5]"
      ],
      "execution_count": null,
      "outputs": [
        {
          "output_type": "execute_result",
          "data": {
            "text/plain": [
              "[['us_popularity_estimate', 99],\n",
              " ['session_position', 76],\n",
              " ['duration', 63],\n",
              " ['previous_acoustic_vector_0', 53],\n",
              " ['previous_us_popularity_estimate', 52]]"
            ]
          },
          "metadata": {
            "tags": []
          },
          "execution_count": 29
        }
      ]
    },
    {
      "cell_type": "markdown",
      "metadata": {
        "id": "xu5sWL2CYgJs"
      },
      "source": [
        "### Plotting top 10 features"
      ]
    },
    {
      "cell_type": "code",
      "metadata": {
        "colab": {
          "base_uri": "https://localhost:8080/",
          "height": 600
        },
        "id": "MLxhu_HlYUMP",
        "outputId": "30eae068-65d5-40a3-ec16-d131ded45bb4"
      },
      "source": [
        "fi = pd.DataFrame(lgbm_feature_importances,columns=['Feature','Importance'])\r\n",
        "\r\n",
        "plt.figure(figsize=(10,8))\r\n",
        "sns.barplot(\r\n",
        "    \"Importance\",\r\n",
        "    \"Feature\",\r\n",
        "    data=fi.head(10)\r\n",
        ")\r\n",
        "plt.title(\r\n",
        "    \"LightGBM Model\\nFeature Importance Comparison (Top 10)\",\r\n",
        "    fontsize=20\r\n",
        ")\r\n",
        "plt.xlabel(\r\n",
        "    \"\",\r\n",
        "    fontsize=15\r\n",
        ")\r\n",
        "plt.ylabel(\r\n",
        "    \"\",\r\n",
        "    fontsize=15\r\n",
        ")\r\n",
        "#plt.xticks(rotation=90)\r\n",
        "#plt.tight_layout()\r\n",
        "#plt.savefig(\"images/lgbm_feature_importance_top10.png\")\r\n",
        "#plt.show()"
      ],
      "execution_count": null,
      "outputs": [
        {
          "output_type": "stream",
          "text": [
            "/usr/local/lib/python3.6/dist-packages/seaborn/_decorators.py:43: FutureWarning: Pass the following variables as keyword args: x, y. From version 0.12, the only valid positional argument will be `data`, and passing other arguments without an explicit keyword will result in an error or misinterpretation.\n",
            "  FutureWarning\n"
          ],
          "name": "stderr"
        },
        {
          "output_type": "execute_result",
          "data": {
            "text/plain": [
              "Text(0, 0.5, '')"
            ]
          },
          "metadata": {
            "tags": []
          },
          "execution_count": 32
        },
        {
          "output_type": "display_data",
          "data": {
            "image/png": "[encoded data removed]",
            "text/plain": [
              "<Figure size 720x576 with 1 Axes>"
            ]
          },
          "metadata": {
            "tags": []
          }
        }
      ]
    },
    {
      "cell_type": "code",
      "metadata": {
        "id": "vutjf4H3Yun3"
      },
      "source": [
        "from sklearn.metrics import confusion_matrix"
      ],
      "execution_count": null,
      "outputs": []
    },
    {
      "cell_type": "code",
      "metadata": {
        "colab": {
          "base_uri": "https://localhost:8080/"
        },
        "id": "CEUAcVLwZQ5O",
        "outputId": "f373d32f-f2de-426f-bccc-488f0d0b2f41"
      },
      "source": [
        "print(\"Logistic Regression Confusion Matrix\")\r\n",
        "print(confusion_matrix(\r\n",
        "    y_test,\r\n",
        "    log.predict(X_test)\r\n",
        ") / sum(y_test.shape))"
      ],
      "execution_count": null,
      "outputs": [
        {
          "output_type": "stream",
          "text": [
            "Logistic Regression Confusion Matrix\n",
            "[[0.09143436 0.39105313]\n",
            " [0.08163569 0.43587682]]\n"
          ],
          "name": "stdout"
        }
      ]
    },
    {
      "cell_type": "code",
      "metadata": {
        "colab": {
          "base_uri": "https://localhost:8080/"
        },
        "id": "pltX5TkyZU8w",
        "outputId": "16ba99e1-937a-4b33-c0ed-01007829c875"
      },
      "source": [
        "print(\"Random Forest Confusion Matrix\")\r\n",
        "print(confusion_matrix(\r\n",
        "    y_test,\r\n",
        "    rfc.predict(X_test)\r\n",
        ") / sum(y_test.shape))"
      ],
      "execution_count": null,
      "outputs": [
        {
          "output_type": "stream",
          "text": [
            "Random Forest Confusion Matrix\n",
            "[[0.34414463 0.13834286]\n",
            " [0.15424708 0.36326543]]\n"
          ],
          "name": "stdout"
        }
      ]
    },
    {
      "cell_type": "code",
      "metadata": {
        "colab": {
          "base_uri": "https://localhost:8080/"
        },
        "id": "2BZZhtv8Za77",
        "outputId": "6a0c7cc1-cf77-4ba4-cdad-f216be9f8cd9"
      },
      "source": [
        "print(\"XGBoost Confusion Matrix\")\r\n",
        "print(confusion_matrix(\r\n",
        "    y_test,\r\n",
        "    xgb.predict(X_test)\r\n",
        ") / sum(y_test.shape))"
      ],
      "execution_count": null,
      "outputs": [
        {
          "output_type": "stream",
          "text": [
            "XGBoost Confusion Matrix\n",
            "[[0.36040624 0.12208125]\n",
            " [0.14954134 0.36797117]]\n"
          ],
          "name": "stdout"
        }
      ]
    },
    {
      "cell_type": "code",
      "metadata": {
        "colab": {
          "base_uri": "https://localhost:8080/"
        },
        "id": "KV26iU1TZg2L",
        "outputId": "a849b5f2-69f6-4095-86c0-2e84f2f40581"
      },
      "source": [
        "print(\"LightGBM Confusion Matrix\")\r\n",
        "print(confusion_matrix(\r\n",
        "    y_test,\r\n",
        "    lgbm.predict(X_test)\r\n",
        ") / sum(y_test.shape))"
      ],
      "execution_count": null,
      "outputs": [
        {
          "output_type": "stream",
          "text": [
            "LightGBM Confusion Matrix\n",
            "[[0.35915535 0.12333214]\n",
            " [0.14855849 0.36895401]]\n"
          ],
          "name": "stdout"
        }
      ]
    },
    {
      "cell_type": "code",
      "metadata": {
        "id": "HC6a8Z3jZkBY"
      },
      "source": [
        "# # Save out the model\r\n",
        "# with open(\"lgbm_model_0.73TestAcc.pkl\",\"wb\") as f:\r\n",
        " #    pickle.dump(lgbm,f)"
      ],
      "execution_count": null,
      "outputs": []
    },
    {
      "cell_type": "code",
      "metadata": {
        "id": "PsprpImsaAog"
      },
      "source": [
        "# Load in the model\r\n",
        "#with open(\"lgbm_model_0.73TestAcc.pkl\",\"rb\") as f:\r\n",
        "#    lgbm = pickle.load(f)"
      ],
      "execution_count": null,
      "outputs": []
    },
    {
      "cell_type": "code",
      "metadata": {
        "id": "5Vv4POazaIfL"
      },
      "source": [
        "from sklearn.metrics import accuracy_score"
      ],
      "execution_count": null,
      "outputs": []
    },
    {
      "cell_type": "code",
      "metadata": {
        "colab": {
          "base_uri": "https://localhost:8080/"
        },
        "id": "XpxHtcjpaR4j",
        "outputId": "3601cf0d-b847-4a98-eb4c-80b39295bce6"
      },
      "source": [
        "def predict_proba(X):\r\n",
        "    predictions = (\r\n",
        "        log.predict_proba(scaler.transform(X))[:,1] +\r\n",
        "        rfc.predict_proba(X)[:,1] +\r\n",
        "        xgb.predict_proba(X)[:,1] +\r\n",
        "        lgbm.predict_proba(X)[:,1]\r\n",
        "    )\r\n",
        "    return predictions / 4\r\n",
        "\r\n",
        "def predict(X,threshold=0.5):\r\n",
        "    return (predict_proba(X) > threshold).astype('float32')\r\n",
        "\r\n",
        "def score(X,y):\r\n",
        "    return accuracy_score(y,predict(X))\r\n",
        "\r\n",
        "print(\"Ensemble Train Accuracy:  %.3f\" % score(X_train,y_train))\r\n",
        "print(\"Ensemble Val Accuracy:    %.3f\" % score(X_val,y_val))\r\n",
        "print(\"Ensemble Test Accuracy:   %.3f\" % score(X_test,y_test))"
      ],
      "execution_count": null,
      "outputs": [
        {
          "output_type": "stream",
          "text": [
            "Ensemble Train Accuracy:  0.858\n",
            "Ensemble Val Accuracy:    0.723\n",
            "Ensemble Test Accuracy:   0.725\n"
          ],
          "name": "stdout"
        }
      ]
    },
    {
      "cell_type": "code",
      "metadata": {
        "id": "0E_uUi6oaX_6"
      },
      "source": [
        "ensamble_predictions = predict(X_test)\r\n"
      ],
      "execution_count": null,
      "outputs": []
    },
    {
      "cell_type": "code",
      "metadata": {
        "id": "oQyGBv9haqcw"
      },
      "source": [
        "from sklearn.metrics import precision_score, recall_score, f1_score"
      ],
      "execution_count": null,
      "outputs": []
    },
    {
      "cell_type": "code",
      "metadata": {
        "colab": {
          "base_uri": "https://localhost:8080/"
        },
        "id": "Z3Li6X3pauFO",
        "outputId": "c171f815-29da-4315-d75b-36dfcf95af91"
      },
      "source": [
        "lgbm_preds = lgbm.predict(X_test)\r\n",
        "\r\n",
        "print(\"LightGBM Test Precision Score: %.3f\" % precision_score(y_test,lgbm_preds))\r\n",
        "print(\"LightGBM Test Recall Score:    %.3f\" % recall_score(y_test,lgbm_preds))\r\n",
        "print(\"LightGBM Test F1 Score:        %.3f\" % f1_score(y_test,lgbm_preds))"
      ],
      "execution_count": null,
      "outputs": [
        {
          "output_type": "stream",
          "text": [
            "LightGBM Test Precision Score: 0.749\n",
            "LightGBM Test Recall Score:    0.713\n",
            "LightGBM Test F1 Score:        0.731\n"
          ],
          "name": "stdout"
        }
      ]
    },
    {
      "cell_type": "code",
      "metadata": {
        "colab": {
          "base_uri": "https://localhost:8080/"
        },
        "id": "nMuK_stUayMK",
        "outputId": "79bc7c34-275e-4833-8b92-fe6918764ae5"
      },
      "source": [
        "print(\"Ensemble Test Precision Score: %.3f\" % precision_score(y_test,ensamble_predictions))\r\n",
        "print(\"Ensemble Test Recall Score:    %.3f\" % recall_score(y_test,ensamble_predictions))\r\n",
        "print(\"Ensemble Test F1 Score:        %.3f\" % f1_score(y_test,ensamble_predictions))"
      ],
      "execution_count": null,
      "outputs": [
        {
          "output_type": "stream",
          "text": [
            "Ensemble Test Precision Score: 0.743\n",
            "Ensemble Test Recall Score:    0.715\n",
            "Ensemble Test F1 Score:        0.729\n"
          ],
          "name": "stdout"
        }
      ]
    },
    {
      "cell_type": "markdown",
      "metadata": {
        "id": "Ka3JU83ia9MO"
      },
      "source": [
        "Let's look at the residuals for the best model (LightGBM) and see if we can find a cause"
      ]
    },
    {
      "cell_type": "code",
      "metadata": {
        "colab": {
          "base_uri": "https://localhost:8080/",
          "height": 573
        },
        "id": "3HuVbPoka4ZO",
        "outputId": "fd6e7348-0d82-4623-ebc1-d90861b56aea"
      },
      "source": [
        "lgbm_probs = lgbm.predict_proba(X_test)[:,1]\r\n",
        "lgmb_residuals = (lgbm_probs - y_test).sort_values()\r\n",
        "\r\n",
        "plt.figure(figsize=(12,8))\r\n",
        "sns.distplot(lgmb_residuals)\r\n",
        "plt.title(\"Distribution of Residuals\")\r\n",
        "plt.xlabel(\"Prediction (Skipped?)\")\r\n",
        "plt.show()\r\n"
      ],
      "execution_count": null,
      "outputs": [
        {
          "output_type": "stream",
          "text": [
            "/usr/local/lib/python3.6/dist-packages/seaborn/distributions.py:2557: FutureWarning: `distplot` is a deprecated function and will be removed in a future version. Please adapt your code to use either `displot` (a figure-level function with similar flexibility) or `histplot` (an axes-level function for histograms).\n",
            "  warnings.warn(msg, FutureWarning)\n"
          ],
          "name": "stderr"
        },
        {
          "output_type": "display_data",
          "data": {
            "image/png": "[encoded data removed]",
            "text/plain": [
              "<Figure size 864x576 with 1 Axes>"
            ]
          },
          "metadata": {
            "tags": []
          }
        }
      ]
    },
    {
      "cell_type": "code",
      "metadata": {
        "colab": {
          "base_uri": "https://localhost:8080/",
          "height": 573
        },
        "id": "i1cShCnpa-zI",
        "outputId": "9593a276-0710-4fdc-c63a-999dd32fb719"
      },
      "source": [
        "plt.figure(figsize=(12,8))\r\n",
        "sns.distplot(np.abs(lgmb_residuals))\r\n",
        "plt.title(\"Distribution of Residuals\")\r\n",
        "plt.xlabel(\"Prediction Error\")\r\n",
        "plt.show()"
      ],
      "execution_count": null,
      "outputs": [
        {
          "output_type": "stream",
          "text": [
            "/usr/local/lib/python3.6/dist-packages/seaborn/distributions.py:2557: FutureWarning: `distplot` is a deprecated function and will be removed in a future version. Please adapt your code to use either `displot` (a figure-level function with similar flexibility) or `histplot` (an axes-level function for histograms).\n",
            "  warnings.warn(msg, FutureWarning)\n"
          ],
          "name": "stderr"
        },
        {
          "output_type": "display_data",
          "data": {
            "image/png": "[encoded data removed]",
            "text/plain": [
              "<Figure size 864x576 with 1 Axes>"
            ]
          },
          "metadata": {
            "tags": []
          }
        }
      ]
    },
    {
      "cell_type": "code",
      "metadata": {
        "colab": {
          "base_uri": "https://localhost:8080/"
        },
        "id": "WyqOms0QbTmG",
        "outputId": "2dd24f46-2110-4fc4-c32a-7a682d94c104"
      },
      "source": [
        "threshold = 0.6\r\n",
        "print(\"Proportion of Residuals (Greater than %.2f):  %.4f\" % (\r\n",
        "    threshold,\r\n",
        "    (np.abs(lgmb_residuals) > threshold).sum() / lgmb_residuals.count()\r\n",
        "))"
      ],
      "execution_count": null,
      "outputs": [
        {
          "output_type": "stream",
          "text": [
            "Proportion of Residuals (Greater than 0.60):  0.2659\n"
          ],
          "name": "stdout"
        }
      ]
    },
    {
      "cell_type": "code",
      "metadata": {
        "colab": {
          "base_uri": "https://localhost:8080/"
        },
        "id": "znQZMW3mbZQ7",
        "outputId": "2fb7c5f0-6d35-4f60-fb39-945728fc997e"
      },
      "source": [
        "target_residuals = np.abs(lgmb_residuals) > threshold\r\n",
        "target_residuals = target_residuals.sort_index()\r\n",
        "target_residuals.head()"
      ],
      "execution_count": null,
      "outputs": [
        {
          "output_type": "execute_result",
          "data": {
            "text/plain": [
              "5     False\n",
              "9     False\n",
              "14     True\n",
              "15    False\n",
              "21    False\n",
              "Name: skipped, dtype: bool"
            ]
          },
          "metadata": {
            "tags": []
          },
          "execution_count": 53
        }
      ]
    },
    {
      "cell_type": "code",
      "metadata": {
        "colab": {
          "base_uri": "https://localhost:8080/",
          "height": 222
        },
        "id": "okWFt4a8behX",
        "outputId": "c88dc254-708a-4461-db1a-141bb7c5669f"
      },
      "source": [
        "X_test.sort_index().head()"
      ],
      "execution_count": null,
      "outputs": [
        {
          "output_type": "execute_result",
          "data": {
            "text/html": [
              "<div>\n",
              "<style scoped>\n",
              "    .dataframe tbody tr th:only-of-type {\n",
              "        vertical-align: middle;\n",
              "    }\n",
              "\n",
              "    .dataframe tbody tr th {\n",
              "        vertical-align: top;\n",
              "    }\n",
              "\n",
              "    .dataframe thead th {\n",
              "        text-align: right;\n",
              "    }\n",
              "</style>\n",
              "<table border=\"1\" class=\"dataframe\">\n",
              "  <thead>\n",
              "    <tr style=\"text-align: right;\">\n",
              "      <th></th>\n",
              "      <th>session_position</th>\n",
              "      <th>duration</th>\n",
              "      <th>release_year</th>\n",
              "      <th>us_popularity_estimate</th>\n",
              "      <th>acousticness</th>\n",
              "      <th>beat_strength</th>\n",
              "      <th>bounciness</th>\n",
              "      <th>danceability</th>\n",
              "      <th>dyn_range_mean</th>\n",
              "      <th>energy</th>\n",
              "      <th>flatness</th>\n",
              "      <th>instrumentalness</th>\n",
              "      <th>key</th>\n",
              "      <th>liveness</th>\n",
              "      <th>loudness</th>\n",
              "      <th>mechanism</th>\n",
              "      <th>is_major</th>\n",
              "      <th>organism</th>\n",
              "      <th>speechiness</th>\n",
              "      <th>tempo</th>\n",
              "      <th>time_signature</th>\n",
              "      <th>valence</th>\n",
              "      <th>acoustic_vector_0</th>\n",
              "      <th>acoustic_vector_1</th>\n",
              "      <th>acoustic_vector_2</th>\n",
              "      <th>acoustic_vector_3</th>\n",
              "      <th>acoustic_vector_4</th>\n",
              "      <th>acoustic_vector_5</th>\n",
              "      <th>acoustic_vector_6</th>\n",
              "      <th>acoustic_vector_7</th>\n",
              "      <th>previous_session_position</th>\n",
              "      <th>previous_skipped</th>\n",
              "      <th>previous_duration</th>\n",
              "      <th>previous_release_year</th>\n",
              "      <th>previous_us_popularity_estimate</th>\n",
              "      <th>previous_acousticness</th>\n",
              "      <th>previous_beat_strength</th>\n",
              "      <th>previous_bounciness</th>\n",
              "      <th>previous_danceability</th>\n",
              "      <th>previous_dyn_range_mean</th>\n",
              "      <th>previous_energy</th>\n",
              "      <th>previous_flatness</th>\n",
              "      <th>previous_instrumentalness</th>\n",
              "      <th>previous_key</th>\n",
              "      <th>previous_liveness</th>\n",
              "      <th>previous_loudness</th>\n",
              "      <th>previous_mechanism</th>\n",
              "      <th>previous_is_major</th>\n",
              "      <th>previous_organism</th>\n",
              "      <th>previous_speechiness</th>\n",
              "      <th>previous_tempo</th>\n",
              "      <th>previous_time_signature</th>\n",
              "      <th>previous_valence</th>\n",
              "      <th>previous_acoustic_vector_0</th>\n",
              "      <th>previous_acoustic_vector_1</th>\n",
              "      <th>previous_acoustic_vector_2</th>\n",
              "      <th>previous_acoustic_vector_3</th>\n",
              "      <th>previous_acoustic_vector_4</th>\n",
              "      <th>previous_acoustic_vector_5</th>\n",
              "      <th>previous_acoustic_vector_6</th>\n",
              "      <th>previous_acoustic_vector_7</th>\n",
              "    </tr>\n",
              "  </thead>\n",
              "  <tbody>\n",
              "    <tr>\n",
              "      <th>5</th>\n",
              "      <td>6.0</td>\n",
              "      <td>-0.079714</td>\n",
              "      <td>1.000000</td>\n",
              "      <td>0.713925</td>\n",
              "      <td>0.098337</td>\n",
              "      <td>0.548632</td>\n",
              "      <td>0.658323</td>\n",
              "      <td>0.596480</td>\n",
              "      <td>0.966162</td>\n",
              "      <td>0.557129</td>\n",
              "      <td>1.027320</td>\n",
              "      <td>7.479557e-08</td>\n",
              "      <td>0.090909</td>\n",
              "      <td>0.056493</td>\n",
              "      <td>0.115559</td>\n",
              "      <td>0.385027</td>\n",
              "      <td>0.0</td>\n",
              "      <td>0.440376</td>\n",
              "      <td>0.133586</td>\n",
              "      <td>0.406463</td>\n",
              "      <td>0.714286</td>\n",
              "      <td>0.661081</td>\n",
              "      <td>-1.336988</td>\n",
              "      <td>0.457133</td>\n",
              "      <td>1.093895</td>\n",
              "      <td>0.837688</td>\n",
              "      <td>-0.708546</td>\n",
              "      <td>0.469779</td>\n",
              "      <td>0.643404</td>\n",
              "      <td>0.871075</td>\n",
              "      <td>5.0</td>\n",
              "      <td>0.0</td>\n",
              "      <td>-0.154756</td>\n",
              "      <td>1.0</td>\n",
              "      <td>0.714545</td>\n",
              "      <td>0.006602</td>\n",
              "      <td>0.732428</td>\n",
              "      <td>0.794881</td>\n",
              "      <td>0.857778</td>\n",
              "      <td>1.680245</td>\n",
              "      <td>0.650057</td>\n",
              "      <td>1.000571</td>\n",
              "      <td>2.066649e-06</td>\n",
              "      <td>0.727273</td>\n",
              "      <td>0.120842</td>\n",
              "      <td>0.700050</td>\n",
              "      <td>0.759465</td>\n",
              "      <td>1.0</td>\n",
              "      <td>0.170148</td>\n",
              "      <td>0.240980</td>\n",
              "      <td>0.863928</td>\n",
              "      <td>0.571429</td>\n",
              "      <td>0.652921</td>\n",
              "      <td>-1.458160</td>\n",
              "      <td>0.623033</td>\n",
              "      <td>0.359345</td>\n",
              "      <td>0.291053</td>\n",
              "      <td>-0.843922</td>\n",
              "      <td>-0.390072</td>\n",
              "      <td>-1.023939</td>\n",
              "      <td>0.498887</td>\n",
              "    </tr>\n",
              "    <tr>\n",
              "      <th>9</th>\n",
              "      <td>10.0</td>\n",
              "      <td>-1.993436</td>\n",
              "      <td>1.000000</td>\n",
              "      <td>0.686116</td>\n",
              "      <td>0.332467</td>\n",
              "      <td>0.751500</td>\n",
              "      <td>0.843354</td>\n",
              "      <td>0.914082</td>\n",
              "      <td>2.600974</td>\n",
              "      <td>0.239318</td>\n",
              "      <td>1.040802</td>\n",
              "      <td>4.132156e-04</td>\n",
              "      <td>0.363636</td>\n",
              "      <td>0.119036</td>\n",
              "      <td>-0.125827</td>\n",
              "      <td>0.622222</td>\n",
              "      <td>0.0</td>\n",
              "      <td>0.355844</td>\n",
              "      <td>0.154609</td>\n",
              "      <td>-0.689075</td>\n",
              "      <td>0.571429</td>\n",
              "      <td>0.257672</td>\n",
              "      <td>-0.932294</td>\n",
              "      <td>0.570553</td>\n",
              "      <td>0.528771</td>\n",
              "      <td>-0.063110</td>\n",
              "      <td>-0.637029</td>\n",
              "      <td>0.122592</td>\n",
              "      <td>-0.492090</td>\n",
              "      <td>0.337519</td>\n",
              "      <td>9.0</td>\n",
              "      <td>1.0</td>\n",
              "      <td>-0.060523</td>\n",
              "      <td>1.0</td>\n",
              "      <td>0.714512</td>\n",
              "      <td>0.030127</td>\n",
              "      <td>0.818798</td>\n",
              "      <td>0.879947</td>\n",
              "      <td>0.964383</td>\n",
              "      <td>2.835511</td>\n",
              "      <td>0.555280</td>\n",
              "      <td>1.046868</td>\n",
              "      <td>5.667919e-04</td>\n",
              "      <td>0.454545</td>\n",
              "      <td>0.128244</td>\n",
              "      <td>0.402303</td>\n",
              "      <td>0.857855</td>\n",
              "      <td>0.0</td>\n",
              "      <td>0.102744</td>\n",
              "      <td>0.049853</td>\n",
              "      <td>0.299266</td>\n",
              "      <td>0.571429</td>\n",
              "      <td>0.338321</td>\n",
              "      <td>-1.163279</td>\n",
              "      <td>0.544965</td>\n",
              "      <td>0.440833</td>\n",
              "      <td>0.239874</td>\n",
              "      <td>-0.611950</td>\n",
              "      <td>-0.084447</td>\n",
              "      <td>-0.734181</td>\n",
              "      <td>0.432584</td>\n",
              "    </tr>\n",
              "    <tr>\n",
              "      <th>14</th>\n",
              "      <td>15.0</td>\n",
              "      <td>0.066509</td>\n",
              "      <td>1.000000</td>\n",
              "      <td>0.695795</td>\n",
              "      <td>0.774773</td>\n",
              "      <td>0.617454</td>\n",
              "      <td>0.670036</td>\n",
              "      <td>0.823040</td>\n",
              "      <td>0.780974</td>\n",
              "      <td>0.447236</td>\n",
              "      <td>1.022653</td>\n",
              "      <td>1.483840e-05</td>\n",
              "      <td>0.090909</td>\n",
              "      <td>0.093145</td>\n",
              "      <td>-0.567057</td>\n",
              "      <td>0.673130</td>\n",
              "      <td>0.0</td>\n",
              "      <td>0.594608</td>\n",
              "      <td>0.125605</td>\n",
              "      <td>-0.363101</td>\n",
              "      <td>0.571429</td>\n",
              "      <td>0.413239</td>\n",
              "      <td>-1.288333</td>\n",
              "      <td>0.946098</td>\n",
              "      <td>0.907073</td>\n",
              "      <td>-0.012053</td>\n",
              "      <td>-0.797852</td>\n",
              "      <td>0.408928</td>\n",
              "      <td>-0.683667</td>\n",
              "      <td>0.495345</td>\n",
              "      <td>14.0</td>\n",
              "      <td>0.0</td>\n",
              "      <td>0.138905</td>\n",
              "      <td>1.0</td>\n",
              "      <td>0.714857</td>\n",
              "      <td>0.058140</td>\n",
              "      <td>0.678129</td>\n",
              "      <td>0.730079</td>\n",
              "      <td>0.762655</td>\n",
              "      <td>1.126273</td>\n",
              "      <td>0.441125</td>\n",
              "      <td>1.031085</td>\n",
              "      <td>2.466994e-09</td>\n",
              "      <td>0.000000</td>\n",
              "      <td>0.045777</td>\n",
              "      <td>-0.039152</td>\n",
              "      <td>0.462094</td>\n",
              "      <td>1.0</td>\n",
              "      <td>0.382572</td>\n",
              "      <td>0.256456</td>\n",
              "      <td>-1.158487</td>\n",
              "      <td>0.571429</td>\n",
              "      <td>0.538387</td>\n",
              "      <td>-1.434056</td>\n",
              "      <td>0.575960</td>\n",
              "      <td>0.839529</td>\n",
              "      <td>0.343214</td>\n",
              "      <td>-0.726113</td>\n",
              "      <td>-0.050670</td>\n",
              "      <td>-0.857889</td>\n",
              "      <td>0.557363</td>\n",
              "    </tr>\n",
              "    <tr>\n",
              "      <th>15</th>\n",
              "      <td>16.0</td>\n",
              "      <td>-0.560323</td>\n",
              "      <td>1.000000</td>\n",
              "      <td>0.709174</td>\n",
              "      <td>0.205823</td>\n",
              "      <td>0.601301</td>\n",
              "      <td>0.689148</td>\n",
              "      <td>0.648763</td>\n",
              "      <td>1.054330</td>\n",
              "      <td>0.557770</td>\n",
              "      <td>1.011848</td>\n",
              "      <td>1.051750e-06</td>\n",
              "      <td>0.363636</td>\n",
              "      <td>0.156104</td>\n",
              "      <td>0.530294</td>\n",
              "      <td>0.211957</td>\n",
              "      <td>0.0</td>\n",
              "      <td>0.575923</td>\n",
              "      <td>0.424763</td>\n",
              "      <td>-1.523755</td>\n",
              "      <td>0.571429</td>\n",
              "      <td>0.150389</td>\n",
              "      <td>-1.332473</td>\n",
              "      <td>0.959653</td>\n",
              "      <td>0.870733</td>\n",
              "      <td>0.069690</td>\n",
              "      <td>-1.006623</td>\n",
              "      <td>0.051399</td>\n",
              "      <td>-0.575339</td>\n",
              "      <td>0.408537</td>\n",
              "      <td>15.0</td>\n",
              "      <td>1.0</td>\n",
              "      <td>0.066509</td>\n",
              "      <td>1.0</td>\n",
              "      <td>0.695795</td>\n",
              "      <td>0.774773</td>\n",
              "      <td>0.617454</td>\n",
              "      <td>0.670036</td>\n",
              "      <td>0.823040</td>\n",
              "      <td>0.780974</td>\n",
              "      <td>0.447236</td>\n",
              "      <td>1.022653</td>\n",
              "      <td>1.483840e-05</td>\n",
              "      <td>0.090909</td>\n",
              "      <td>0.093145</td>\n",
              "      <td>-0.567057</td>\n",
              "      <td>0.673130</td>\n",
              "      <td>0.0</td>\n",
              "      <td>0.594608</td>\n",
              "      <td>0.125605</td>\n",
              "      <td>-0.363101</td>\n",
              "      <td>0.571429</td>\n",
              "      <td>0.413239</td>\n",
              "      <td>-1.288333</td>\n",
              "      <td>0.946098</td>\n",
              "      <td>0.907073</td>\n",
              "      <td>-0.012053</td>\n",
              "      <td>-0.797852</td>\n",
              "      <td>0.408928</td>\n",
              "      <td>-0.683667</td>\n",
              "      <td>0.495345</td>\n",
              "    </tr>\n",
              "    <tr>\n",
              "      <th>21</th>\n",
              "      <td>2.0</td>\n",
              "      <td>1.193464</td>\n",
              "      <td>0.352941</td>\n",
              "      <td>0.375007</td>\n",
              "      <td>0.000017</td>\n",
              "      <td>0.291298</td>\n",
              "      <td>0.251156</td>\n",
              "      <td>0.303636</td>\n",
              "      <td>-1.219696</td>\n",
              "      <td>0.973996</td>\n",
              "      <td>0.919151</td>\n",
              "      <td>7.752319e-01</td>\n",
              "      <td>0.181818</td>\n",
              "      <td>0.892332</td>\n",
              "      <td>0.710155</td>\n",
              "      <td>0.282387</td>\n",
              "      <td>1.0</td>\n",
              "      <td>0.507429</td>\n",
              "      <td>0.068105</td>\n",
              "      <td>0.826691</td>\n",
              "      <td>0.571429</td>\n",
              "      <td>0.555482</td>\n",
              "      <td>1.089178</td>\n",
              "      <td>0.334528</td>\n",
              "      <td>-1.077931</td>\n",
              "      <td>-1.183144</td>\n",
              "      <td>1.746748</td>\n",
              "      <td>0.848901</td>\n",
              "      <td>-0.399163</td>\n",
              "      <td>-0.024212</td>\n",
              "      <td>1.0</td>\n",
              "      <td>1.0</td>\n",
              "      <td>-9999.000000</td>\n",
              "      <td>-9999.0</td>\n",
              "      <td>-9999.000000</td>\n",
              "      <td>-9999.000000</td>\n",
              "      <td>-9999.000000</td>\n",
              "      <td>-9999.000000</td>\n",
              "      <td>-9999.000000</td>\n",
              "      <td>-9999.000000</td>\n",
              "      <td>-9999.000000</td>\n",
              "      <td>-9999.000000</td>\n",
              "      <td>-9.999000e+03</td>\n",
              "      <td>-9999.000000</td>\n",
              "      <td>-9999.000000</td>\n",
              "      <td>-9999.000000</td>\n",
              "      <td>-9999.000000</td>\n",
              "      <td>-9999.0</td>\n",
              "      <td>-9999.000000</td>\n",
              "      <td>-9999.000000</td>\n",
              "      <td>-9999.000000</td>\n",
              "      <td>-9999.000000</td>\n",
              "      <td>-9999.000000</td>\n",
              "      <td>-9999.000000</td>\n",
              "      <td>-9999.000000</td>\n",
              "      <td>-9999.000000</td>\n",
              "      <td>-9999.000000</td>\n",
              "      <td>-9999.000000</td>\n",
              "      <td>-9999.000000</td>\n",
              "      <td>-9999.000000</td>\n",
              "      <td>-9999.000000</td>\n",
              "    </tr>\n",
              "  </tbody>\n",
              "</table>\n",
              "</div>"
            ],
            "text/plain": [
              "    session_position  ...  previous_acoustic_vector_7\n",
              "5                6.0  ...                    0.498887\n",
              "9               10.0  ...                    0.432584\n",
              "14              15.0  ...                    0.557363\n",
              "15              16.0  ...                    0.495345\n",
              "21               2.0  ...                -9999.000000\n",
              "\n",
              "[5 rows x 61 columns]"
            ]
          },
          "metadata": {
            "tags": []
          },
          "execution_count": 54
        }
      ]
    },
    {
      "cell_type": "code",
      "metadata": {
        "colab": {
          "base_uri": "https://localhost:8080/"
        },
        "id": "O7I3ogS1big6",
        "outputId": "9a56c080-598a-4a51-9dea-7164ea8856cd"
      },
      "source": [
        "X_test.info()"
      ],
      "execution_count": null,
      "outputs": [
        {
          "output_type": "stream",
          "text": [
            "<class 'pandas.core.frame.DataFrame'>\n",
            "Int64Index: 33576 entries, 159336 to 18534\n",
            "Data columns (total 61 columns):\n",
            " #   Column                           Non-Null Count  Dtype  \n",
            "---  ------                           --------------  -----  \n",
            " 0   session_position                 33576 non-null  float64\n",
            " 1   duration                         33576 non-null  float32\n",
            " 2   release_year                     33576 non-null  float32\n",
            " 3   us_popularity_estimate           33576 non-null  float32\n",
            " 4   acousticness                     33576 non-null  float32\n",
            " 5   beat_strength                    33576 non-null  float32\n",
            " 6   bounciness                       33576 non-null  float32\n",
            " 7   danceability                     33576 non-null  float32\n",
            " 8   dyn_range_mean                   33576 non-null  float32\n",
            " 9   energy                           33576 non-null  float32\n",
            " 10  flatness                         33576 non-null  float32\n",
            " 11  instrumentalness                 33576 non-null  float32\n",
            " 12  key                              33576 non-null  float32\n",
            " 13  liveness                         33576 non-null  float32\n",
            " 14  loudness                         33576 non-null  float32\n",
            " 15  mechanism                        33576 non-null  float32\n",
            " 16  is_major                         33576 non-null  float32\n",
            " 17  organism                         33576 non-null  float32\n",
            " 18  speechiness                      33576 non-null  float32\n",
            " 19  tempo                            33576 non-null  float32\n",
            " 20  time_signature                   33576 non-null  float32\n",
            " 21  valence                          33576 non-null  float32\n",
            " 22  acoustic_vector_0                33576 non-null  float32\n",
            " 23  acoustic_vector_1                33576 non-null  float32\n",
            " 24  acoustic_vector_2                33576 non-null  float32\n",
            " 25  acoustic_vector_3                33576 non-null  float32\n",
            " 26  acoustic_vector_4                33576 non-null  float32\n",
            " 27  acoustic_vector_5                33576 non-null  float32\n",
            " 28  acoustic_vector_6                33576 non-null  float32\n",
            " 29  acoustic_vector_7                33576 non-null  float32\n",
            " 30  previous_session_position        33576 non-null  float64\n",
            " 31  previous_skipped                 33576 non-null  float64\n",
            " 32  previous_duration                33576 non-null  float32\n",
            " 33  previous_release_year            33576 non-null  float32\n",
            " 34  previous_us_popularity_estimate  33576 non-null  float32\n",
            " 35  previous_acousticness            33576 non-null  float32\n",
            " 36  previous_beat_strength           33576 non-null  float32\n",
            " 37  previous_bounciness              33576 non-null  float32\n",
            " 38  previous_danceability            33576 non-null  float32\n",
            " 39  previous_dyn_range_mean          33576 non-null  float32\n",
            " 40  previous_energy                  33576 non-null  float32\n",
            " 41  previous_flatness                33576 non-null  float32\n",
            " 42  previous_instrumentalness        33576 non-null  float32\n",
            " 43  previous_key                     33576 non-null  float32\n",
            " 44  previous_liveness                33576 non-null  float32\n",
            " 45  previous_loudness                33576 non-null  float32\n",
            " 46  previous_mechanism               33576 non-null  float32\n",
            " 47  previous_is_major                33576 non-null  float32\n",
            " 48  previous_organism                33576 non-null  float32\n",
            " 49  previous_speechiness             33576 non-null  float32\n",
            " 50  previous_tempo                   33576 non-null  float32\n",
            " 51  previous_time_signature          33576 non-null  float32\n",
            " 52  previous_valence                 33576 non-null  float32\n",
            " 53  previous_acoustic_vector_0       33576 non-null  float32\n",
            " 54  previous_acoustic_vector_1       33576 non-null  float32\n",
            " 55  previous_acoustic_vector_2       33576 non-null  float32\n",
            " 56  previous_acoustic_vector_3       33576 non-null  float32\n",
            " 57  previous_acoustic_vector_4       33576 non-null  float32\n",
            " 58  previous_acoustic_vector_5       33576 non-null  float32\n",
            " 59  previous_acoustic_vector_6       33576 non-null  float32\n",
            " 60  previous_acoustic_vector_7       33576 non-null  float32\n",
            "dtypes: float32(58), float64(3)\n",
            "memory usage: 8.5 MB\n"
          ],
          "name": "stdout"
        }
      ]
    },
    {
      "cell_type": "code",
      "metadata": {
        "colab": {
          "base_uri": "https://localhost:8080/"
        },
        "id": "KxxPnzWsblu0",
        "outputId": "057c48ee-54d5-4a79-8a3c-0fc7fe71a440"
      },
      "source": [
        "# Sort the columns by lgbm's feature importance value\r\n",
        "columns_to_compare, _ = zip(*sorted(zip(X.columns, lgbm.feature_importances_),key=lambda p:p[1],reverse=True))\r\n",
        "columns_to_compare[:10]"
      ],
      "execution_count": null,
      "outputs": [
        {
          "output_type": "execute_result",
          "data": {
            "text/plain": [
              "('us_popularity_estimate',\n",
              " 'session_position',\n",
              " 'duration',\n",
              " 'previous_acoustic_vector_0',\n",
              " 'previous_us_popularity_estimate',\n",
              " 'previous_duration',\n",
              " 'previous_skipped',\n",
              " 'release_year',\n",
              " 'acousticness',\n",
              " 'flatness')"
            ]
          },
          "metadata": {
            "tags": []
          },
          "execution_count": 56
        }
      ]
    },
    {
      "cell_type": "code",
      "metadata": {
        "id": "rbhXadbBbruI"
      },
      "source": [
        "def plot(column):\r\n",
        "    plt.figure(figsize=(8,4))\r\n",
        "    sns.distplot(\r\n",
        "        X_test[column][target_residuals],\r\n",
        "        label=\"Residual > 0.6\"\r\n",
        "    )\r\n",
        "    sns.distplot(\r\n",
        "        X_test[column][~target_residuals],\r\n",
        "        label=\"Residual < 0.6\"\r\n",
        "    )\r\n",
        "    plt.title(f\"Distribution of \\\"{column}\\\"\\nw/ Residual Split\")\r\n",
        "    plt.show()\r\n",
        "    return"
      ],
      "execution_count": null,
      "outputs": []
    },
    {
      "cell_type": "code",
      "metadata": {
        "colab": {
          "base_uri": "https://localhost:8080/",
          "height": 405
        },
        "id": "sV00_aWjbxvC",
        "outputId": "088f22c3-dbd0-4834-b69d-1952a2dc311e"
      },
      "source": [
        "plot(\"us_popularity_estimate\")"
      ],
      "execution_count": null,
      "outputs": [
        {
          "output_type": "stream",
          "text": [
            "/usr/local/lib/python3.6/dist-packages/seaborn/distributions.py:2557: FutureWarning: `distplot` is a deprecated function and will be removed in a future version. Please adapt your code to use either `displot` (a figure-level function with similar flexibility) or `histplot` (an axes-level function for histograms).\n",
            "  warnings.warn(msg, FutureWarning)\n",
            "/usr/local/lib/python3.6/dist-packages/seaborn/distributions.py:2557: FutureWarning: `distplot` is a deprecated function and will be removed in a future version. Please adapt your code to use either `displot` (a figure-level function with similar flexibility) or `histplot` (an axes-level function for histograms).\n",
            "  warnings.warn(msg, FutureWarning)\n"
          ],
          "name": "stderr"
        },
        {
          "output_type": "display_data",
          "data": {
            "image/png": "[encoded data removed]",
            "text/plain": [
              "<Figure size 576x288 with 1 Axes>"
            ]
          },
          "metadata": {
            "tags": []
          }
        }
      ]
    },
    {
      "cell_type": "code",
      "metadata": {
        "colab": {
          "base_uri": "https://localhost:8080/",
          "height": 405
        },
        "id": "dPrPKHlHb6Tn",
        "outputId": "729270af-3943-45e4-ed5f-13709464c955"
      },
      "source": [
        "plot(\"duration\")"
      ],
      "execution_count": null,
      "outputs": [
        {
          "output_type": "stream",
          "text": [
            "/usr/local/lib/python3.6/dist-packages/seaborn/distributions.py:2557: FutureWarning: `distplot` is a deprecated function and will be removed in a future version. Please adapt your code to use either `displot` (a figure-level function with similar flexibility) or `histplot` (an axes-level function for histograms).\n",
            "  warnings.warn(msg, FutureWarning)\n",
            "/usr/local/lib/python3.6/dist-packages/seaborn/distributions.py:2557: FutureWarning: `distplot` is a deprecated function and will be removed in a future version. Please adapt your code to use either `displot` (a figure-level function with similar flexibility) or `histplot` (an axes-level function for histograms).\n",
            "  warnings.warn(msg, FutureWarning)\n"
          ],
          "name": "stderr"
        },
        {
          "output_type": "display_data",
          "data": {
            "image/png": "[encoded data removed]",
            "text/plain": [
              "<Figure size 576x288 with 1 Axes>"
            ]
          },
          "metadata": {
            "tags": []
          }
        }
      ]
    },
    {
      "cell_type": "code",
      "metadata": {
        "colab": {
          "base_uri": "https://localhost:8080/",
          "height": 405
        },
        "id": "OsZcn9MCb_et",
        "outputId": "f911c312-0577-40ab-c383-d62362fd5125"
      },
      "source": [
        "plot(\"session_position\")"
      ],
      "execution_count": null,
      "outputs": [
        {
          "output_type": "stream",
          "text": [
            "/usr/local/lib/python3.6/dist-packages/seaborn/distributions.py:2557: FutureWarning: `distplot` is a deprecated function and will be removed in a future version. Please adapt your code to use either `displot` (a figure-level function with similar flexibility) or `histplot` (an axes-level function for histograms).\n",
            "  warnings.warn(msg, FutureWarning)\n",
            "/usr/local/lib/python3.6/dist-packages/seaborn/distributions.py:2557: FutureWarning: `distplot` is a deprecated function and will be removed in a future version. Please adapt your code to use either `displot` (a figure-level function with similar flexibility) or `histplot` (an axes-level function for histograms).\n",
            "  warnings.warn(msg, FutureWarning)\n"
          ],
          "name": "stderr"
        },
        {
          "output_type": "display_data",
          "data": {
            "image/png": "[encoded data removed]",
            "text/plain": [
              "<Figure size 576x288 with 1 Axes>"
            ]
          },
          "metadata": {
            "tags": []
          }
        }
      ]
    },
    {
      "cell_type": "code",
      "metadata": {
        "colab": {
          "base_uri": "https://localhost:8080/",
          "height": 405
        },
        "id": "_FS5D-PCcJ-Z",
        "outputId": "de9c4c19-7aa3-4e77-bf1d-399749395231"
      },
      "source": [
        "plot(\"release_year\")"
      ],
      "execution_count": null,
      "outputs": [
        {
          "output_type": "stream",
          "text": [
            "/usr/local/lib/python3.6/dist-packages/seaborn/distributions.py:2557: FutureWarning: `distplot` is a deprecated function and will be removed in a future version. Please adapt your code to use either `displot` (a figure-level function with similar flexibility) or `histplot` (an axes-level function for histograms).\n",
            "  warnings.warn(msg, FutureWarning)\n",
            "/usr/local/lib/python3.6/dist-packages/seaborn/distributions.py:2557: FutureWarning: `distplot` is a deprecated function and will be removed in a future version. Please adapt your code to use either `displot` (a figure-level function with similar flexibility) or `histplot` (an axes-level function for histograms).\n",
            "  warnings.warn(msg, FutureWarning)\n"
          ],
          "name": "stderr"
        },
        {
          "output_type": "display_data",
          "data": {
            "image/png": "[encoded data removed]",
            "text/plain": [
              "<Figure size 576x288 with 1 Axes>"
            ]
          },
          "metadata": {
            "tags": []
          }
        }
      ]
    },
    {
      "cell_type": "code",
      "metadata": {
        "colab": {
          "base_uri": "https://localhost:8080/",
          "height": 405
        },
        "id": "sZaVAuI8cOTK",
        "outputId": "e453340e-e26f-4981-bf7e-c4b59e53319d"
      },
      "source": [
        "plot(\"acousticness\")"
      ],
      "execution_count": null,
      "outputs": [
        {
          "output_type": "stream",
          "text": [
            "/usr/local/lib/python3.6/dist-packages/seaborn/distributions.py:2557: FutureWarning: `distplot` is a deprecated function and will be removed in a future version. Please adapt your code to use either `displot` (a figure-level function with similar flexibility) or `histplot` (an axes-level function for histograms).\n",
            "  warnings.warn(msg, FutureWarning)\n",
            "/usr/local/lib/python3.6/dist-packages/seaborn/distributions.py:2557: FutureWarning: `distplot` is a deprecated function and will be removed in a future version. Please adapt your code to use either `displot` (a figure-level function with similar flexibility) or `histplot` (an axes-level function for histograms).\n",
            "  warnings.warn(msg, FutureWarning)\n"
          ],
          "name": "stderr"
        },
        {
          "output_type": "display_data",
          "data": {
            "image/png": "[encoded data removed]",
            "text/plain": [
              "<Figure size 576x288 with 1 Axes>"
            ]
          },
          "metadata": {
            "tags": []
          }
        }
      ]
    },
    {
      "cell_type": "code",
      "metadata": {
        "colab": {
          "base_uri": "https://localhost:8080/",
          "height": 405
        },
        "id": "RJAg6d_DcTU_",
        "outputId": "60783797-7d54-462c-f107-8e61148bc6fd"
      },
      "source": [
        "plot(\"acoustic_vector_0\")"
      ],
      "execution_count": null,
      "outputs": [
        {
          "output_type": "stream",
          "text": [
            "/usr/local/lib/python3.6/dist-packages/seaborn/distributions.py:2557: FutureWarning: `distplot` is a deprecated function and will be removed in a future version. Please adapt your code to use either `displot` (a figure-level function with similar flexibility) or `histplot` (an axes-level function for histograms).\n",
            "  warnings.warn(msg, FutureWarning)\n",
            "/usr/local/lib/python3.6/dist-packages/seaborn/distributions.py:2557: FutureWarning: `distplot` is a deprecated function and will be removed in a future version. Please adapt your code to use either `displot` (a figure-level function with similar flexibility) or `histplot` (an axes-level function for histograms).\n",
            "  warnings.warn(msg, FutureWarning)\n"
          ],
          "name": "stderr"
        },
        {
          "output_type": "display_data",
          "data": {
            "image/png": "[encoded data removed]",
            "text/plain": [
              "<Figure size 576x288 with 1 Axes>"
            ]
          },
          "metadata": {
            "tags": []
          }
        }
      ]
    },
    {
      "cell_type": "code",
      "metadata": {
        "colab": {
          "base_uri": "https://localhost:8080/",
          "height": 405
        },
        "id": "0N66EhoucXqN",
        "outputId": "d7dd4ad3-cc49-4812-cf72-2d2198a1a191"
      },
      "source": [
        "plot(\"previous_acoustic_vector_0\")"
      ],
      "execution_count": null,
      "outputs": [
        {
          "output_type": "stream",
          "text": [
            "/usr/local/lib/python3.6/dist-packages/seaborn/distributions.py:2557: FutureWarning: `distplot` is a deprecated function and will be removed in a future version. Please adapt your code to use either `displot` (a figure-level function with similar flexibility) or `histplot` (an axes-level function for histograms).\n",
            "  warnings.warn(msg, FutureWarning)\n",
            "/usr/local/lib/python3.6/dist-packages/seaborn/distributions.py:2557: FutureWarning: `distplot` is a deprecated function and will be removed in a future version. Please adapt your code to use either `displot` (a figure-level function with similar flexibility) or `histplot` (an axes-level function for histograms).\n",
            "  warnings.warn(msg, FutureWarning)\n"
          ],
          "name": "stderr"
        },
        {
          "output_type": "display_data",
          "data": {
            "image/png": "[encoded data removed]",
            "text/plain": [
              "<Figure size 576x288 with 1 Axes>"
            ]
          },
          "metadata": {
            "tags": []
          }
        }
      ]
    },
    {
      "cell_type": "code",
      "metadata": {
        "colab": {
          "base_uri": "https://localhost:8080/",
          "height": 405
        },
        "id": "gY5gUDMAclJh",
        "outputId": "be351a3d-0549-4c90-c474-08c483e585ad"
      },
      "source": [
        "plot(\"previous_duration\")\r\n"
      ],
      "execution_count": null,
      "outputs": [
        {
          "output_type": "stream",
          "text": [
            "/usr/local/lib/python3.6/dist-packages/seaborn/distributions.py:2557: FutureWarning: `distplot` is a deprecated function and will be removed in a future version. Please adapt your code to use either `displot` (a figure-level function with similar flexibility) or `histplot` (an axes-level function for histograms).\n",
            "  warnings.warn(msg, FutureWarning)\n",
            "/usr/local/lib/python3.6/dist-packages/seaborn/distributions.py:2557: FutureWarning: `distplot` is a deprecated function and will be removed in a future version. Please adapt your code to use either `displot` (a figure-level function with similar flexibility) or `histplot` (an axes-level function for histograms).\n",
            "  warnings.warn(msg, FutureWarning)\n"
          ],
          "name": "stderr"
        },
        {
          "output_type": "display_data",
          "data": {
            "image/png": "[encoded data removed]",
            "text/plain": [
              "<Figure size 576x288 with 1 Axes>"
            ]
          },
          "metadata": {
            "tags": []
          }
        }
      ]
    },
    {
      "cell_type": "code",
      "metadata": {
        "colab": {
          "base_uri": "https://localhost:8080/",
          "height": 405
        },
        "id": "fDlW0mkYcdQf",
        "outputId": "c6ed0aaa-4e6b-44c3-9b27-d77f35a51886"
      },
      "source": [
        "# The N/A value is making it hard to see the main distribution\r\n",
        "\r\n",
        "plt.figure(figsize=(8,4))\r\n",
        "sns.distplot(\r\n",
        "    X_test[\"previous_duration\"][target_residuals & (X_test[\"previous_duration\"] > -2000)],\r\n",
        "    label=\"Residual > 0.6\"\r\n",
        ")\r\n",
        "sns.distplot(\r\n",
        "    X_test[\"previous_duration\"][~target_residuals & (X_test[\"previous_duration\"] > -2000)],\r\n",
        "    label=\"Residual < 0.6\"\r\n",
        ")\r\n",
        "plt.title(f\"Distribution of \\\"{ 'previous_duration' }\\\"\\nw/ Residual Split\")\r\n",
        "plt.show()"
      ],
      "execution_count": null,
      "outputs": [
        {
          "output_type": "stream",
          "text": [
            "/usr/local/lib/python3.6/dist-packages/seaborn/distributions.py:2557: FutureWarning: `distplot` is a deprecated function and will be removed in a future version. Please adapt your code to use either `displot` (a figure-level function with similar flexibility) or `histplot` (an axes-level function for histograms).\n",
            "  warnings.warn(msg, FutureWarning)\n",
            "/usr/local/lib/python3.6/dist-packages/seaborn/distributions.py:2557: FutureWarning: `distplot` is a deprecated function and will be removed in a future version. Please adapt your code to use either `displot` (a figure-level function with similar flexibility) or `histplot` (an axes-level function for histograms).\n",
            "  warnings.warn(msg, FutureWarning)\n"
          ],
          "name": "stderr"
        },
        {
          "output_type": "display_data",
          "data": {
            "image/png": "[encoded data removed]",
            "text/plain": [
              "<Figure size 576x288 with 1 Axes>"
            ]
          },
          "metadata": {
            "tags": []
          }
        }
      ]
    },
    {
      "cell_type": "code",
      "metadata": {
        "colab": {
          "base_uri": "https://localhost:8080/",
          "height": 405
        },
        "id": "vXDEqPrxczsB",
        "outputId": "d9ea0554-424c-4827-a706-47409cd749ea"
      },
      "source": [
        "plot(\"loudness\")"
      ],
      "execution_count": null,
      "outputs": [
        {
          "output_type": "stream",
          "text": [
            "/usr/local/lib/python3.6/dist-packages/seaborn/distributions.py:2557: FutureWarning: `distplot` is a deprecated function and will be removed in a future version. Please adapt your code to use either `displot` (a figure-level function with similar flexibility) or `histplot` (an axes-level function for histograms).\n",
            "  warnings.warn(msg, FutureWarning)\n",
            "/usr/local/lib/python3.6/dist-packages/seaborn/distributions.py:2557: FutureWarning: `distplot` is a deprecated function and will be removed in a future version. Please adapt your code to use either `displot` (a figure-level function with similar flexibility) or `histplot` (an axes-level function for histograms).\n",
            "  warnings.warn(msg, FutureWarning)\n"
          ],
          "name": "stderr"
        },
        {
          "output_type": "display_data",
          "data": {
            "image/png": "[encoded data removed]",
            "text/plain": [
              "<Figure size 576x288 with 1 Axes>"
            ]
          },
          "metadata": {
            "tags": []
          }
        }
      ]
    },
    {
      "cell_type": "code",
      "metadata": {
        "colab": {
          "base_uri": "https://localhost:8080/",
          "height": 482
        },
        "id": "HOnf-WKGc34x",
        "outputId": "c253d3fa-8539-4b3c-ed3b-6745ca08115c"
      },
      "source": [
        "full_session_data.head()"
      ],
      "execution_count": null,
      "outputs": [
        {
          "output_type": "execute_result",
          "data": {
            "text/html": [
              "<div>\n",
              "<style scoped>\n",
              "    .dataframe tbody tr th:only-of-type {\n",
              "        vertical-align: middle;\n",
              "    }\n",
              "\n",
              "    .dataframe tbody tr th {\n",
              "        vertical-align: top;\n",
              "    }\n",
              "\n",
              "    .dataframe thead th {\n",
              "        text-align: right;\n",
              "    }\n",
              "</style>\n",
              "<table border=\"1\" class=\"dataframe\">\n",
              "  <thead>\n",
              "    <tr style=\"text-align: right;\">\n",
              "      <th></th>\n",
              "      <th>session_id</th>\n",
              "      <th>session_position</th>\n",
              "      <th>skipped</th>\n",
              "      <th>track_id</th>\n",
              "      <th>duration</th>\n",
              "      <th>release_year</th>\n",
              "      <th>us_popularity_estimate</th>\n",
              "      <th>acousticness</th>\n",
              "      <th>beat_strength</th>\n",
              "      <th>bounciness</th>\n",
              "      <th>danceability</th>\n",
              "      <th>dyn_range_mean</th>\n",
              "      <th>energy</th>\n",
              "      <th>flatness</th>\n",
              "      <th>instrumentalness</th>\n",
              "      <th>key</th>\n",
              "      <th>liveness</th>\n",
              "      <th>loudness</th>\n",
              "      <th>mechanism</th>\n",
              "      <th>is_major</th>\n",
              "      <th>organism</th>\n",
              "      <th>speechiness</th>\n",
              "      <th>tempo</th>\n",
              "      <th>time_signature</th>\n",
              "      <th>valence</th>\n",
              "      <th>acoustic_vector_0</th>\n",
              "      <th>acoustic_vector_1</th>\n",
              "      <th>acoustic_vector_2</th>\n",
              "      <th>acoustic_vector_3</th>\n",
              "      <th>acoustic_vector_4</th>\n",
              "      <th>acoustic_vector_5</th>\n",
              "      <th>acoustic_vector_6</th>\n",
              "      <th>acoustic_vector_7</th>\n",
              "      <th>previous_session_position</th>\n",
              "      <th>previous_skipped</th>\n",
              "      <th>previous_duration</th>\n",
              "      <th>previous_release_year</th>\n",
              "      <th>previous_us_popularity_estimate</th>\n",
              "      <th>previous_acousticness</th>\n",
              "      <th>previous_beat_strength</th>\n",
              "      <th>previous_bounciness</th>\n",
              "      <th>previous_danceability</th>\n",
              "      <th>previous_dyn_range_mean</th>\n",
              "      <th>previous_energy</th>\n",
              "      <th>previous_flatness</th>\n",
              "      <th>previous_instrumentalness</th>\n",
              "      <th>previous_key</th>\n",
              "      <th>previous_liveness</th>\n",
              "      <th>previous_loudness</th>\n",
              "      <th>previous_mechanism</th>\n",
              "      <th>previous_is_major</th>\n",
              "      <th>previous_organism</th>\n",
              "      <th>previous_speechiness</th>\n",
              "      <th>previous_tempo</th>\n",
              "      <th>previous_time_signature</th>\n",
              "      <th>previous_valence</th>\n",
              "      <th>previous_acoustic_vector_0</th>\n",
              "      <th>previous_acoustic_vector_1</th>\n",
              "      <th>previous_acoustic_vector_2</th>\n",
              "      <th>previous_acoustic_vector_3</th>\n",
              "      <th>previous_acoustic_vector_4</th>\n",
              "      <th>previous_acoustic_vector_5</th>\n",
              "      <th>previous_acoustic_vector_6</th>\n",
              "      <th>previous_acoustic_vector_7</th>\n",
              "    </tr>\n",
              "  </thead>\n",
              "  <tbody>\n",
              "    <tr>\n",
              "      <th>0</th>\n",
              "      <td>0_00006f66-33e5-4de7-a324-2d18e439fc1e</td>\n",
              "      <td>1.0</td>\n",
              "      <td>0</td>\n",
              "      <td>t_0479f24c-27d2-46d6-a00c-7ec928f2b539</td>\n",
              "      <td>-0.527006</td>\n",
              "      <td>1.0</td>\n",
              "      <td>0.693523</td>\n",
              "      <td>0.015848</td>\n",
              "      <td>0.438551</td>\n",
              "      <td>0.473455</td>\n",
              "      <td>0.653119</td>\n",
              "      <td>-0.148759</td>\n",
              "      <td>0.553465</td>\n",
              "      <td>1.035007</td>\n",
              "      <td>3.484468e-03</td>\n",
              "      <td>0.090909</td>\n",
              "      <td>0.678553</td>\n",
              "      <td>0.327754</td>\n",
              "      <td>0.546784</td>\n",
              "      <td>1.0</td>\n",
              "      <td>0.320668</td>\n",
              "      <td>0.069717</td>\n",
              "      <td>0.432284</td>\n",
              "      <td>0.571429</td>\n",
              "      <td>0.152255</td>\n",
              "      <td>-1.332878</td>\n",
              "      <td>0.813641</td>\n",
              "      <td>0.440978</td>\n",
              "      <td>0.131989</td>\n",
              "      <td>-0.844142</td>\n",
              "      <td>-0.143796</td>\n",
              "      <td>-0.599983</td>\n",
              "      <td>0.566763</td>\n",
              "      <td>NaN</td>\n",
              "      <td>NaN</td>\n",
              "      <td>NaN</td>\n",
              "      <td>NaN</td>\n",
              "      <td>NaN</td>\n",
              "      <td>NaN</td>\n",
              "      <td>NaN</td>\n",
              "      <td>NaN</td>\n",
              "      <td>NaN</td>\n",
              "      <td>NaN</td>\n",
              "      <td>NaN</td>\n",
              "      <td>NaN</td>\n",
              "      <td>NaN</td>\n",
              "      <td>NaN</td>\n",
              "      <td>NaN</td>\n",
              "      <td>NaN</td>\n",
              "      <td>NaN</td>\n",
              "      <td>NaN</td>\n",
              "      <td>NaN</td>\n",
              "      <td>NaN</td>\n",
              "      <td>NaN</td>\n",
              "      <td>NaN</td>\n",
              "      <td>NaN</td>\n",
              "      <td>NaN</td>\n",
              "      <td>NaN</td>\n",
              "      <td>NaN</td>\n",
              "      <td>NaN</td>\n",
              "      <td>NaN</td>\n",
              "      <td>NaN</td>\n",
              "      <td>NaN</td>\n",
              "      <td>NaN</td>\n",
              "    </tr>\n",
              "    <tr>\n",
              "      <th>1</th>\n",
              "      <td>0_00006f66-33e5-4de7-a324-2d18e439fc1e</td>\n",
              "      <td>2.0</td>\n",
              "      <td>0</td>\n",
              "      <td>t_9099cd7b-c238-47b7-9381-f23f2c1d1043</td>\n",
              "      <td>0.165861</td>\n",
              "      <td>1.0</td>\n",
              "      <td>0.644089</td>\n",
              "      <td>0.061811</td>\n",
              "      <td>0.654804</td>\n",
              "      <td>0.735661</td>\n",
              "      <td>0.877393</td>\n",
              "      <td>1.327177</td>\n",
              "      <td>0.726828</td>\n",
              "      <td>1.025636</td>\n",
              "      <td>1.031315e-07</td>\n",
              "      <td>0.636364</td>\n",
              "      <td>0.104322</td>\n",
              "      <td>0.610232</td>\n",
              "      <td>0.824766</td>\n",
              "      <td>0.0</td>\n",
              "      <td>0.131391</td>\n",
              "      <td>0.061158</td>\n",
              "      <td>0.299963</td>\n",
              "      <td>0.571429</td>\n",
              "      <td>0.337152</td>\n",
              "      <td>-1.090160</td>\n",
              "      <td>0.735187</td>\n",
              "      <td>0.773410</td>\n",
              "      <td>-0.065046</td>\n",
              "      <td>-0.971432</td>\n",
              "      <td>0.160804</td>\n",
              "      <td>-0.631676</td>\n",
              "      <td>0.428458</td>\n",
              "      <td>1.0</td>\n",
              "      <td>0.0</td>\n",
              "      <td>-0.527006</td>\n",
              "      <td>1.0</td>\n",
              "      <td>0.693523</td>\n",
              "      <td>0.015848</td>\n",
              "      <td>0.438551</td>\n",
              "      <td>0.473455</td>\n",
              "      <td>0.653119</td>\n",
              "      <td>-0.148759</td>\n",
              "      <td>0.553465</td>\n",
              "      <td>1.035007</td>\n",
              "      <td>3.484468e-03</td>\n",
              "      <td>0.090909</td>\n",
              "      <td>0.678553</td>\n",
              "      <td>0.327754</td>\n",
              "      <td>0.546784</td>\n",
              "      <td>1.0</td>\n",
              "      <td>0.320668</td>\n",
              "      <td>0.069717</td>\n",
              "      <td>0.432284</td>\n",
              "      <td>0.571429</td>\n",
              "      <td>0.152255</td>\n",
              "      <td>-1.332878</td>\n",
              "      <td>0.813641</td>\n",
              "      <td>0.440978</td>\n",
              "      <td>0.131989</td>\n",
              "      <td>-0.844142</td>\n",
              "      <td>-0.143796</td>\n",
              "      <td>-0.599983</td>\n",
              "      <td>0.566763</td>\n",
              "    </tr>\n",
              "    <tr>\n",
              "      <th>2</th>\n",
              "      <td>0_00006f66-33e5-4de7-a324-2d18e439fc1e</td>\n",
              "      <td>3.0</td>\n",
              "      <td>0</td>\n",
              "      <td>t_fc5df5ba-5396-49a7-8b29-35d0d28249e0</td>\n",
              "      <td>0.098324</td>\n",
              "      <td>1.0</td>\n",
              "      <td>0.715568</td>\n",
              "      <td>0.354116</td>\n",
              "      <td>0.532155</td>\n",
              "      <td>0.540411</td>\n",
              "      <td>0.679719</td>\n",
              "      <td>0.015381</td>\n",
              "      <td>0.563009</td>\n",
              "      <td>1.029465</td>\n",
              "      <td>2.659035e-08</td>\n",
              "      <td>0.909091</td>\n",
              "      <td>0.135776</td>\n",
              "      <td>0.492570</td>\n",
              "      <td>0.774327</td>\n",
              "      <td>1.0</td>\n",
              "      <td>0.296923</td>\n",
              "      <td>0.045354</td>\n",
              "      <td>0.797452</td>\n",
              "      <td>0.571429</td>\n",
              "      <td>0.373862</td>\n",
              "      <td>-1.158831</td>\n",
              "      <td>0.776265</td>\n",
              "      <td>0.534293</td>\n",
              "      <td>-0.084075</td>\n",
              "      <td>-0.758170</td>\n",
              "      <td>0.142758</td>\n",
              "      <td>-0.959950</td>\n",
              "      <td>0.496833</td>\n",
              "      <td>2.0</td>\n",
              "      <td>0.0</td>\n",
              "      <td>0.165861</td>\n",
              "      <td>1.0</td>\n",
              "      <td>0.644089</td>\n",
              "      <td>0.061811</td>\n",
              "      <td>0.654804</td>\n",
              "      <td>0.735661</td>\n",
              "      <td>0.877393</td>\n",
              "      <td>1.327177</td>\n",
              "      <td>0.726828</td>\n",
              "      <td>1.025636</td>\n",
              "      <td>1.031315e-07</td>\n",
              "      <td>0.636364</td>\n",
              "      <td>0.104322</td>\n",
              "      <td>0.610232</td>\n",
              "      <td>0.824766</td>\n",
              "      <td>0.0</td>\n",
              "      <td>0.131391</td>\n",
              "      <td>0.061158</td>\n",
              "      <td>0.299963</td>\n",
              "      <td>0.571429</td>\n",
              "      <td>0.337152</td>\n",
              "      <td>-1.090160</td>\n",
              "      <td>0.735187</td>\n",
              "      <td>0.773410</td>\n",
              "      <td>-0.065046</td>\n",
              "      <td>-0.971432</td>\n",
              "      <td>0.160804</td>\n",
              "      <td>-0.631676</td>\n",
              "      <td>0.428458</td>\n",
              "    </tr>\n",
              "    <tr>\n",
              "      <th>3</th>\n",
              "      <td>0_00006f66-33e5-4de7-a324-2d18e439fc1e</td>\n",
              "      <td>4.0</td>\n",
              "      <td>0</td>\n",
              "      <td>t_23cff8d6-d874-4b20-83dc-94e450e8aa20</td>\n",
              "      <td>-0.652071</td>\n",
              "      <td>1.0</td>\n",
              "      <td>0.712150</td>\n",
              "      <td>0.769225</td>\n",
              "      <td>0.641756</td>\n",
              "      <td>0.729224</td>\n",
              "      <td>0.864881</td>\n",
              "      <td>1.318616</td>\n",
              "      <td>0.529484</td>\n",
              "      <td>0.993520</td>\n",
              "      <td>6.598388e-06</td>\n",
              "      <td>0.090909</td>\n",
              "      <td>0.103722</td>\n",
              "      <td>0.063016</td>\n",
              "      <td>0.630996</td>\n",
              "      <td>1.0</td>\n",
              "      <td>0.603271</td>\n",
              "      <td>0.229936</td>\n",
              "      <td>-0.299281</td>\n",
              "      <td>0.571429</td>\n",
              "      <td>0.649420</td>\n",
              "      <td>-1.069886</td>\n",
              "      <td>0.575604</td>\n",
              "      <td>0.685594</td>\n",
              "      <td>-0.055785</td>\n",
              "      <td>-0.997492</td>\n",
              "      <td>0.318548</td>\n",
              "      <td>-0.629268</td>\n",
              "      <td>0.797080</td>\n",
              "      <td>3.0</td>\n",
              "      <td>0.0</td>\n",
              "      <td>0.098324</td>\n",
              "      <td>1.0</td>\n",
              "      <td>0.715568</td>\n",
              "      <td>0.354116</td>\n",
              "      <td>0.532155</td>\n",
              "      <td>0.540411</td>\n",
              "      <td>0.679719</td>\n",
              "      <td>0.015381</td>\n",
              "      <td>0.563009</td>\n",
              "      <td>1.029465</td>\n",
              "      <td>2.659035e-08</td>\n",
              "      <td>0.909091</td>\n",
              "      <td>0.135776</td>\n",
              "      <td>0.492570</td>\n",
              "      <td>0.774327</td>\n",
              "      <td>1.0</td>\n",
              "      <td>0.296923</td>\n",
              "      <td>0.045354</td>\n",
              "      <td>0.797452</td>\n",
              "      <td>0.571429</td>\n",
              "      <td>0.373862</td>\n",
              "      <td>-1.158831</td>\n",
              "      <td>0.776265</td>\n",
              "      <td>0.534293</td>\n",
              "      <td>-0.084075</td>\n",
              "      <td>-0.758170</td>\n",
              "      <td>0.142758</td>\n",
              "      <td>-0.959950</td>\n",
              "      <td>0.496833</td>\n",
              "    </tr>\n",
              "    <tr>\n",
              "      <th>4</th>\n",
              "      <td>0_00006f66-33e5-4de7-a324-2d18e439fc1e</td>\n",
              "      <td>5.0</td>\n",
              "      <td>0</td>\n",
              "      <td>t_64f3743c-f624-46bb-a579-0f3f9a07a123</td>\n",
              "      <td>-0.154756</td>\n",
              "      <td>1.0</td>\n",
              "      <td>0.714545</td>\n",
              "      <td>0.006602</td>\n",
              "      <td>0.732428</td>\n",
              "      <td>0.794881</td>\n",
              "      <td>0.857778</td>\n",
              "      <td>1.680245</td>\n",
              "      <td>0.650057</td>\n",
              "      <td>1.000571</td>\n",
              "      <td>2.066649e-06</td>\n",
              "      <td>0.727273</td>\n",
              "      <td>0.120842</td>\n",
              "      <td>0.700050</td>\n",
              "      <td>0.759465</td>\n",
              "      <td>1.0</td>\n",
              "      <td>0.170148</td>\n",
              "      <td>0.240980</td>\n",
              "      <td>0.863928</td>\n",
              "      <td>0.571429</td>\n",
              "      <td>0.652921</td>\n",
              "      <td>-1.458160</td>\n",
              "      <td>0.623033</td>\n",
              "      <td>0.359345</td>\n",
              "      <td>0.291053</td>\n",
              "      <td>-0.843922</td>\n",
              "      <td>-0.390072</td>\n",
              "      <td>-1.023939</td>\n",
              "      <td>0.498887</td>\n",
              "      <td>4.0</td>\n",
              "      <td>0.0</td>\n",
              "      <td>-0.652071</td>\n",
              "      <td>1.0</td>\n",
              "      <td>0.712150</td>\n",
              "      <td>0.769225</td>\n",
              "      <td>0.641756</td>\n",
              "      <td>0.729224</td>\n",
              "      <td>0.864881</td>\n",
              "      <td>1.318616</td>\n",
              "      <td>0.529484</td>\n",
              "      <td>0.993520</td>\n",
              "      <td>6.598388e-06</td>\n",
              "      <td>0.090909</td>\n",
              "      <td>0.103722</td>\n",
              "      <td>0.063016</td>\n",
              "      <td>0.630996</td>\n",
              "      <td>1.0</td>\n",
              "      <td>0.603271</td>\n",
              "      <td>0.229936</td>\n",
              "      <td>-0.299281</td>\n",
              "      <td>0.571429</td>\n",
              "      <td>0.649420</td>\n",
              "      <td>-1.069886</td>\n",
              "      <td>0.575604</td>\n",
              "      <td>0.685594</td>\n",
              "      <td>-0.055785</td>\n",
              "      <td>-0.997492</td>\n",
              "      <td>0.318548</td>\n",
              "      <td>-0.629268</td>\n",
              "      <td>0.797080</td>\n",
              "    </tr>\n",
              "  </tbody>\n",
              "</table>\n",
              "</div>"
            ],
            "text/plain": [
              "                               session_id  ...  previous_acoustic_vector_7\n",
              "0  0_00006f66-33e5-4de7-a324-2d18e439fc1e  ...                         NaN\n",
              "1  0_00006f66-33e5-4de7-a324-2d18e439fc1e  ...                    0.566763\n",
              "2  0_00006f66-33e5-4de7-a324-2d18e439fc1e  ...                    0.428458\n",
              "3  0_00006f66-33e5-4de7-a324-2d18e439fc1e  ...                    0.496833\n",
              "4  0_00006f66-33e5-4de7-a324-2d18e439fc1e  ...                    0.797080\n",
              "\n",
              "[5 rows x 64 columns]"
            ]
          },
          "metadata": {
            "tags": []
          },
          "execution_count": 69
        }
      ]
    },
    {
      "cell_type": "code",
      "metadata": {
        "colab": {
          "base_uri": "https://localhost:8080/"
        },
        "id": "M37iiiLWc715",
        "outputId": "0c3702cc-4d4c-4b19-858f-e2f31f30ec1e"
      },
      "source": [
        "session_ids = full_session_data.session_id.unique()\r\n",
        "session_ids.shape"
      ],
      "execution_count": null,
      "outputs": [
        {
          "output_type": "execute_result",
          "data": {
            "text/plain": [
              "(10000,)"
            ]
          },
          "metadata": {
            "tags": []
          },
          "execution_count": 70
        }
      ]
    },
    {
      "cell_type": "code",
      "metadata": {
        "id": "gxOlIzQec_1f"
      },
      "source": [
        "past_sessions = [\r\n",
        "    \"0_05eb4c83-e0bd-4e12-b65e-9ccd18b39ef9\"\r\n",
        "]"
      ],
      "execution_count": null,
      "outputs": []
    },
    {
      "cell_type": "code",
      "metadata": {
        "colab": {
          "base_uri": "https://localhost:8080/",
          "height": 35
        },
        "id": "tyACOCLddDc2",
        "outputId": "05a1b87a-c6d1-490d-c7ec-c7da63e10e99"
      },
      "source": [
        "rid = np.random.choice(session_ids)\r\n",
        "rid"
      ],
      "execution_count": null,
      "outputs": [
        {
          "output_type": "execute_result",
          "data": {
            "application/vnd.google.colaboratory.intrinsic+json": {
              "type": "string"
            },
            "text/plain": [
              "'0_08988022-46cd-4300-80c8-97dc84b7016b'"
            ]
          },
          "metadata": {
            "tags": []
          },
          "execution_count": 72
        }
      ]
    },
    {
      "cell_type": "code",
      "metadata": {
        "id": "-SW-dFlqdGhR",
        "colab": {
          "base_uri": "https://localhost:8080/",
          "height": 895
        },
        "outputId": "eef10209-674e-4e49-b70f-68c20222d584"
      },
      "source": [
        "session = full_session_data[full_session_data.session_id == rid]\r\n",
        "session"
      ],
      "execution_count": null,
      "outputs": [
        {
          "output_type": "execute_result",
          "data": {
            "text/html": [
              "<div>\n",
              "<style scoped>\n",
              "    .dataframe tbody tr th:only-of-type {\n",
              "        vertical-align: middle;\n",
              "    }\n",
              "\n",
              "    .dataframe tbody tr th {\n",
              "        vertical-align: top;\n",
              "    }\n",
              "\n",
              "    .dataframe thead th {\n",
              "        text-align: right;\n",
              "    }\n",
              "</style>\n",
              "<table border=\"1\" class=\"dataframe\">\n",
              "  <thead>\n",
              "    <tr style=\"text-align: right;\">\n",
              "      <th></th>\n",
              "      <th>session_id</th>\n",
              "      <th>session_position</th>\n",
              "      <th>skipped</th>\n",
              "      <th>track_id</th>\n",
              "      <th>duration</th>\n",
              "      <th>release_year</th>\n",
              "      <th>us_popularity_estimate</th>\n",
              "      <th>acousticness</th>\n",
              "      <th>beat_strength</th>\n",
              "      <th>bounciness</th>\n",
              "      <th>danceability</th>\n",
              "      <th>dyn_range_mean</th>\n",
              "      <th>energy</th>\n",
              "      <th>flatness</th>\n",
              "      <th>instrumentalness</th>\n",
              "      <th>key</th>\n",
              "      <th>liveness</th>\n",
              "      <th>loudness</th>\n",
              "      <th>mechanism</th>\n",
              "      <th>is_major</th>\n",
              "      <th>organism</th>\n",
              "      <th>speechiness</th>\n",
              "      <th>tempo</th>\n",
              "      <th>time_signature</th>\n",
              "      <th>valence</th>\n",
              "      <th>acoustic_vector_0</th>\n",
              "      <th>acoustic_vector_1</th>\n",
              "      <th>acoustic_vector_2</th>\n",
              "      <th>acoustic_vector_3</th>\n",
              "      <th>acoustic_vector_4</th>\n",
              "      <th>acoustic_vector_5</th>\n",
              "      <th>acoustic_vector_6</th>\n",
              "      <th>acoustic_vector_7</th>\n",
              "      <th>previous_session_position</th>\n",
              "      <th>previous_skipped</th>\n",
              "      <th>previous_duration</th>\n",
              "      <th>previous_release_year</th>\n",
              "      <th>previous_us_popularity_estimate</th>\n",
              "      <th>previous_acousticness</th>\n",
              "      <th>previous_beat_strength</th>\n",
              "      <th>previous_bounciness</th>\n",
              "      <th>previous_danceability</th>\n",
              "      <th>previous_dyn_range_mean</th>\n",
              "      <th>previous_energy</th>\n",
              "      <th>previous_flatness</th>\n",
              "      <th>previous_instrumentalness</th>\n",
              "      <th>previous_key</th>\n",
              "      <th>previous_liveness</th>\n",
              "      <th>previous_loudness</th>\n",
              "      <th>previous_mechanism</th>\n",
              "      <th>previous_is_major</th>\n",
              "      <th>previous_organism</th>\n",
              "      <th>previous_speechiness</th>\n",
              "      <th>previous_tempo</th>\n",
              "      <th>previous_time_signature</th>\n",
              "      <th>previous_valence</th>\n",
              "      <th>previous_acoustic_vector_0</th>\n",
              "      <th>previous_acoustic_vector_1</th>\n",
              "      <th>previous_acoustic_vector_2</th>\n",
              "      <th>previous_acoustic_vector_3</th>\n",
              "      <th>previous_acoustic_vector_4</th>\n",
              "      <th>previous_acoustic_vector_5</th>\n",
              "      <th>previous_acoustic_vector_6</th>\n",
              "      <th>previous_acoustic_vector_7</th>\n",
              "    </tr>\n",
              "  </thead>\n",
              "  <tbody>\n",
              "    <tr>\n",
              "      <th>98742</th>\n",
              "      <td>0_08988022-46cd-4300-80c8-97dc84b7016b</td>\n",
              "      <td>1.0</td>\n",
              "      <td>0</td>\n",
              "      <td>t_2959e1e2-67b5-4cf4-bc47-85fc2599845e</td>\n",
              "      <td>-0.200662</td>\n",
              "      <td>0.926471</td>\n",
              "      <td>0.285947</td>\n",
              "      <td>0.458537</td>\n",
              "      <td>0.268845</td>\n",
              "      <td>0.29014</td>\n",
              "      <td>0.276066</td>\n",
              "      <td>-0.846497</td>\n",
              "      <td>0.489349</td>\n",
              "      <td>0.983221</td>\n",
              "      <td>0.901973</td>\n",
              "      <td>1.0</td>\n",
              "      <td>0.212174</td>\n",
              "      <td>-0.278293</td>\n",
              "      <td>0.301923</td>\n",
              "      <td>0.0</td>\n",
              "      <td>0.590579</td>\n",
              "      <td>0.033156</td>\n",
              "      <td>1.733024</td>\n",
              "      <td>0.571429</td>\n",
              "      <td>0.655019</td>\n",
              "      <td>0.86619</td>\n",
              "      <td>-0.974927</td>\n",
              "      <td>-1.276769</td>\n",
              "      <td>-0.631893</td>\n",
              "      <td>0.698323</td>\n",
              "      <td>0.319548</td>\n",
              "      <td>-0.557926</td>\n",
              "      <td>-0.239506</td>\n",
              "      <td>NaN</td>\n",
              "      <td>NaN</td>\n",
              "      <td>NaN</td>\n",
              "      <td>NaN</td>\n",
              "      <td>NaN</td>\n",
              "      <td>NaN</td>\n",
              "      <td>NaN</td>\n",
              "      <td>NaN</td>\n",
              "      <td>NaN</td>\n",
              "      <td>NaN</td>\n",
              "      <td>NaN</td>\n",
              "      <td>NaN</td>\n",
              "      <td>NaN</td>\n",
              "      <td>NaN</td>\n",
              "      <td>NaN</td>\n",
              "      <td>NaN</td>\n",
              "      <td>NaN</td>\n",
              "      <td>NaN</td>\n",
              "      <td>NaN</td>\n",
              "      <td>NaN</td>\n",
              "      <td>NaN</td>\n",
              "      <td>NaN</td>\n",
              "      <td>NaN</td>\n",
              "      <td>NaN</td>\n",
              "      <td>NaN</td>\n",
              "      <td>NaN</td>\n",
              "      <td>NaN</td>\n",
              "      <td>NaN</td>\n",
              "      <td>NaN</td>\n",
              "      <td>NaN</td>\n",
              "      <td>NaN</td>\n",
              "    </tr>\n",
              "    <tr>\n",
              "      <th>98743</th>\n",
              "      <td>0_08988022-46cd-4300-80c8-97dc84b7016b</td>\n",
              "      <td>2.0</td>\n",
              "      <td>0</td>\n",
              "      <td>NaN</td>\n",
              "      <td>NaN</td>\n",
              "      <td>NaN</td>\n",
              "      <td>NaN</td>\n",
              "      <td>NaN</td>\n",
              "      <td>NaN</td>\n",
              "      <td>NaN</td>\n",
              "      <td>NaN</td>\n",
              "      <td>NaN</td>\n",
              "      <td>NaN</td>\n",
              "      <td>NaN</td>\n",
              "      <td>NaN</td>\n",
              "      <td>NaN</td>\n",
              "      <td>NaN</td>\n",
              "      <td>NaN</td>\n",
              "      <td>NaN</td>\n",
              "      <td>NaN</td>\n",
              "      <td>NaN</td>\n",
              "      <td>NaN</td>\n",
              "      <td>NaN</td>\n",
              "      <td>NaN</td>\n",
              "      <td>NaN</td>\n",
              "      <td>NaN</td>\n",
              "      <td>NaN</td>\n",
              "      <td>NaN</td>\n",
              "      <td>NaN</td>\n",
              "      <td>NaN</td>\n",
              "      <td>NaN</td>\n",
              "      <td>NaN</td>\n",
              "      <td>NaN</td>\n",
              "      <td>1.0</td>\n",
              "      <td>0.0</td>\n",
              "      <td>-0.200662</td>\n",
              "      <td>0.926471</td>\n",
              "      <td>0.285947</td>\n",
              "      <td>0.458537</td>\n",
              "      <td>0.268845</td>\n",
              "      <td>0.29014</td>\n",
              "      <td>0.276066</td>\n",
              "      <td>-0.846497</td>\n",
              "      <td>0.489349</td>\n",
              "      <td>0.983221</td>\n",
              "      <td>0.901973</td>\n",
              "      <td>1.0</td>\n",
              "      <td>0.212174</td>\n",
              "      <td>-0.278293</td>\n",
              "      <td>0.301923</td>\n",
              "      <td>0.0</td>\n",
              "      <td>0.590579</td>\n",
              "      <td>0.033156</td>\n",
              "      <td>1.733024</td>\n",
              "      <td>0.571429</td>\n",
              "      <td>0.655019</td>\n",
              "      <td>0.86619</td>\n",
              "      <td>-0.974927</td>\n",
              "      <td>-1.276769</td>\n",
              "      <td>-0.631893</td>\n",
              "      <td>0.698323</td>\n",
              "      <td>0.319548</td>\n",
              "      <td>-0.557926</td>\n",
              "      <td>-0.239506</td>\n",
              "    </tr>\n",
              "    <tr>\n",
              "      <th>98744</th>\n",
              "      <td>0_08988022-46cd-4300-80c8-97dc84b7016b</td>\n",
              "      <td>3.0</td>\n",
              "      <td>0</td>\n",
              "      <td>NaN</td>\n",
              "      <td>NaN</td>\n",
              "      <td>NaN</td>\n",
              "      <td>NaN</td>\n",
              "      <td>NaN</td>\n",
              "      <td>NaN</td>\n",
              "      <td>NaN</td>\n",
              "      <td>NaN</td>\n",
              "      <td>NaN</td>\n",
              "      <td>NaN</td>\n",
              "      <td>NaN</td>\n",
              "      <td>NaN</td>\n",
              "      <td>NaN</td>\n",
              "      <td>NaN</td>\n",
              "      <td>NaN</td>\n",
              "      <td>NaN</td>\n",
              "      <td>NaN</td>\n",
              "      <td>NaN</td>\n",
              "      <td>NaN</td>\n",
              "      <td>NaN</td>\n",
              "      <td>NaN</td>\n",
              "      <td>NaN</td>\n",
              "      <td>NaN</td>\n",
              "      <td>NaN</td>\n",
              "      <td>NaN</td>\n",
              "      <td>NaN</td>\n",
              "      <td>NaN</td>\n",
              "      <td>NaN</td>\n",
              "      <td>NaN</td>\n",
              "      <td>NaN</td>\n",
              "      <td>2.0</td>\n",
              "      <td>0.0</td>\n",
              "      <td>NaN</td>\n",
              "      <td>NaN</td>\n",
              "      <td>NaN</td>\n",
              "      <td>NaN</td>\n",
              "      <td>NaN</td>\n",
              "      <td>NaN</td>\n",
              "      <td>NaN</td>\n",
              "      <td>NaN</td>\n",
              "      <td>NaN</td>\n",
              "      <td>NaN</td>\n",
              "      <td>NaN</td>\n",
              "      <td>NaN</td>\n",
              "      <td>NaN</td>\n",
              "      <td>NaN</td>\n",
              "      <td>NaN</td>\n",
              "      <td>NaN</td>\n",
              "      <td>NaN</td>\n",
              "      <td>NaN</td>\n",
              "      <td>NaN</td>\n",
              "      <td>NaN</td>\n",
              "      <td>NaN</td>\n",
              "      <td>NaN</td>\n",
              "      <td>NaN</td>\n",
              "      <td>NaN</td>\n",
              "      <td>NaN</td>\n",
              "      <td>NaN</td>\n",
              "      <td>NaN</td>\n",
              "      <td>NaN</td>\n",
              "      <td>NaN</td>\n",
              "    </tr>\n",
              "    <tr>\n",
              "      <th>98745</th>\n",
              "      <td>0_08988022-46cd-4300-80c8-97dc84b7016b</td>\n",
              "      <td>4.0</td>\n",
              "      <td>0</td>\n",
              "      <td>NaN</td>\n",
              "      <td>NaN</td>\n",
              "      <td>NaN</td>\n",
              "      <td>NaN</td>\n",
              "      <td>NaN</td>\n",
              "      <td>NaN</td>\n",
              "      <td>NaN</td>\n",
              "      <td>NaN</td>\n",
              "      <td>NaN</td>\n",
              "      <td>NaN</td>\n",
              "      <td>NaN</td>\n",
              "      <td>NaN</td>\n",
              "      <td>NaN</td>\n",
              "      <td>NaN</td>\n",
              "      <td>NaN</td>\n",
              "      <td>NaN</td>\n",
              "      <td>NaN</td>\n",
              "      <td>NaN</td>\n",
              "      <td>NaN</td>\n",
              "      <td>NaN</td>\n",
              "      <td>NaN</td>\n",
              "      <td>NaN</td>\n",
              "      <td>NaN</td>\n",
              "      <td>NaN</td>\n",
              "      <td>NaN</td>\n",
              "      <td>NaN</td>\n",
              "      <td>NaN</td>\n",
              "      <td>NaN</td>\n",
              "      <td>NaN</td>\n",
              "      <td>NaN</td>\n",
              "      <td>3.0</td>\n",
              "      <td>0.0</td>\n",
              "      <td>NaN</td>\n",
              "      <td>NaN</td>\n",
              "      <td>NaN</td>\n",
              "      <td>NaN</td>\n",
              "      <td>NaN</td>\n",
              "      <td>NaN</td>\n",
              "      <td>NaN</td>\n",
              "      <td>NaN</td>\n",
              "      <td>NaN</td>\n",
              "      <td>NaN</td>\n",
              "      <td>NaN</td>\n",
              "      <td>NaN</td>\n",
              "      <td>NaN</td>\n",
              "      <td>NaN</td>\n",
              "      <td>NaN</td>\n",
              "      <td>NaN</td>\n",
              "      <td>NaN</td>\n",
              "      <td>NaN</td>\n",
              "      <td>NaN</td>\n",
              "      <td>NaN</td>\n",
              "      <td>NaN</td>\n",
              "      <td>NaN</td>\n",
              "      <td>NaN</td>\n",
              "      <td>NaN</td>\n",
              "      <td>NaN</td>\n",
              "      <td>NaN</td>\n",
              "      <td>NaN</td>\n",
              "      <td>NaN</td>\n",
              "      <td>NaN</td>\n",
              "    </tr>\n",
              "    <tr>\n",
              "      <th>98746</th>\n",
              "      <td>0_08988022-46cd-4300-80c8-97dc84b7016b</td>\n",
              "      <td>5.0</td>\n",
              "      <td>0</td>\n",
              "      <td>NaN</td>\n",
              "      <td>NaN</td>\n",
              "      <td>NaN</td>\n",
              "      <td>NaN</td>\n",
              "      <td>NaN</td>\n",
              "      <td>NaN</td>\n",
              "      <td>NaN</td>\n",
              "      <td>NaN</td>\n",
              "      <td>NaN</td>\n",
              "      <td>NaN</td>\n",
              "      <td>NaN</td>\n",
              "      <td>NaN</td>\n",
              "      <td>NaN</td>\n",
              "      <td>NaN</td>\n",
              "      <td>NaN</td>\n",
              "      <td>NaN</td>\n",
              "      <td>NaN</td>\n",
              "      <td>NaN</td>\n",
              "      <td>NaN</td>\n",
              "      <td>NaN</td>\n",
              "      <td>NaN</td>\n",
              "      <td>NaN</td>\n",
              "      <td>NaN</td>\n",
              "      <td>NaN</td>\n",
              "      <td>NaN</td>\n",
              "      <td>NaN</td>\n",
              "      <td>NaN</td>\n",
              "      <td>NaN</td>\n",
              "      <td>NaN</td>\n",
              "      <td>NaN</td>\n",
              "      <td>4.0</td>\n",
              "      <td>0.0</td>\n",
              "      <td>NaN</td>\n",
              "      <td>NaN</td>\n",
              "      <td>NaN</td>\n",
              "      <td>NaN</td>\n",
              "      <td>NaN</td>\n",
              "      <td>NaN</td>\n",
              "      <td>NaN</td>\n",
              "      <td>NaN</td>\n",
              "      <td>NaN</td>\n",
              "      <td>NaN</td>\n",
              "      <td>NaN</td>\n",
              "      <td>NaN</td>\n",
              "      <td>NaN</td>\n",
              "      <td>NaN</td>\n",
              "      <td>NaN</td>\n",
              "      <td>NaN</td>\n",
              "      <td>NaN</td>\n",
              "      <td>NaN</td>\n",
              "      <td>NaN</td>\n",
              "      <td>NaN</td>\n",
              "      <td>NaN</td>\n",
              "      <td>NaN</td>\n",
              "      <td>NaN</td>\n",
              "      <td>NaN</td>\n",
              "      <td>NaN</td>\n",
              "      <td>NaN</td>\n",
              "      <td>NaN</td>\n",
              "      <td>NaN</td>\n",
              "      <td>NaN</td>\n",
              "    </tr>\n",
              "    <tr>\n",
              "      <th>98747</th>\n",
              "      <td>0_08988022-46cd-4300-80c8-97dc84b7016b</td>\n",
              "      <td>6.0</td>\n",
              "      <td>1</td>\n",
              "      <td>NaN</td>\n",
              "      <td>NaN</td>\n",
              "      <td>NaN</td>\n",
              "      <td>NaN</td>\n",
              "      <td>NaN</td>\n",
              "      <td>NaN</td>\n",
              "      <td>NaN</td>\n",
              "      <td>NaN</td>\n",
              "      <td>NaN</td>\n",
              "      <td>NaN</td>\n",
              "      <td>NaN</td>\n",
              "      <td>NaN</td>\n",
              "      <td>NaN</td>\n",
              "      <td>NaN</td>\n",
              "      <td>NaN</td>\n",
              "      <td>NaN</td>\n",
              "      <td>NaN</td>\n",
              "      <td>NaN</td>\n",
              "      <td>NaN</td>\n",
              "      <td>NaN</td>\n",
              "      <td>NaN</td>\n",
              "      <td>NaN</td>\n",
              "      <td>NaN</td>\n",
              "      <td>NaN</td>\n",
              "      <td>NaN</td>\n",
              "      <td>NaN</td>\n",
              "      <td>NaN</td>\n",
              "      <td>NaN</td>\n",
              "      <td>NaN</td>\n",
              "      <td>NaN</td>\n",
              "      <td>5.0</td>\n",
              "      <td>0.0</td>\n",
              "      <td>NaN</td>\n",
              "      <td>NaN</td>\n",
              "      <td>NaN</td>\n",
              "      <td>NaN</td>\n",
              "      <td>NaN</td>\n",
              "      <td>NaN</td>\n",
              "      <td>NaN</td>\n",
              "      <td>NaN</td>\n",
              "      <td>NaN</td>\n",
              "      <td>NaN</td>\n",
              "      <td>NaN</td>\n",
              "      <td>NaN</td>\n",
              "      <td>NaN</td>\n",
              "      <td>NaN</td>\n",
              "      <td>NaN</td>\n",
              "      <td>NaN</td>\n",
              "      <td>NaN</td>\n",
              "      <td>NaN</td>\n",
              "      <td>NaN</td>\n",
              "      <td>NaN</td>\n",
              "      <td>NaN</td>\n",
              "      <td>NaN</td>\n",
              "      <td>NaN</td>\n",
              "      <td>NaN</td>\n",
              "      <td>NaN</td>\n",
              "      <td>NaN</td>\n",
              "      <td>NaN</td>\n",
              "      <td>NaN</td>\n",
              "      <td>NaN</td>\n",
              "    </tr>\n",
              "    <tr>\n",
              "      <th>98748</th>\n",
              "      <td>0_08988022-46cd-4300-80c8-97dc84b7016b</td>\n",
              "      <td>7.0</td>\n",
              "      <td>1</td>\n",
              "      <td>NaN</td>\n",
              "      <td>NaN</td>\n",
              "      <td>NaN</td>\n",
              "      <td>NaN</td>\n",
              "      <td>NaN</td>\n",
              "      <td>NaN</td>\n",
              "      <td>NaN</td>\n",
              "      <td>NaN</td>\n",
              "      <td>NaN</td>\n",
              "      <td>NaN</td>\n",
              "      <td>NaN</td>\n",
              "      <td>NaN</td>\n",
              "      <td>NaN</td>\n",
              "      <td>NaN</td>\n",
              "      <td>NaN</td>\n",
              "      <td>NaN</td>\n",
              "      <td>NaN</td>\n",
              "      <td>NaN</td>\n",
              "      <td>NaN</td>\n",
              "      <td>NaN</td>\n",
              "      <td>NaN</td>\n",
              "      <td>NaN</td>\n",
              "      <td>NaN</td>\n",
              "      <td>NaN</td>\n",
              "      <td>NaN</td>\n",
              "      <td>NaN</td>\n",
              "      <td>NaN</td>\n",
              "      <td>NaN</td>\n",
              "      <td>NaN</td>\n",
              "      <td>NaN</td>\n",
              "      <td>6.0</td>\n",
              "      <td>1.0</td>\n",
              "      <td>NaN</td>\n",
              "      <td>NaN</td>\n",
              "      <td>NaN</td>\n",
              "      <td>NaN</td>\n",
              "      <td>NaN</td>\n",
              "      <td>NaN</td>\n",
              "      <td>NaN</td>\n",
              "      <td>NaN</td>\n",
              "      <td>NaN</td>\n",
              "      <td>NaN</td>\n",
              "      <td>NaN</td>\n",
              "      <td>NaN</td>\n",
              "      <td>NaN</td>\n",
              "      <td>NaN</td>\n",
              "      <td>NaN</td>\n",
              "      <td>NaN</td>\n",
              "      <td>NaN</td>\n",
              "      <td>NaN</td>\n",
              "      <td>NaN</td>\n",
              "      <td>NaN</td>\n",
              "      <td>NaN</td>\n",
              "      <td>NaN</td>\n",
              "      <td>NaN</td>\n",
              "      <td>NaN</td>\n",
              "      <td>NaN</td>\n",
              "      <td>NaN</td>\n",
              "      <td>NaN</td>\n",
              "      <td>NaN</td>\n",
              "      <td>NaN</td>\n",
              "    </tr>\n",
              "    <tr>\n",
              "      <th>98749</th>\n",
              "      <td>0_08988022-46cd-4300-80c8-97dc84b7016b</td>\n",
              "      <td>8.0</td>\n",
              "      <td>1</td>\n",
              "      <td>NaN</td>\n",
              "      <td>NaN</td>\n",
              "      <td>NaN</td>\n",
              "      <td>NaN</td>\n",
              "      <td>NaN</td>\n",
              "      <td>NaN</td>\n",
              "      <td>NaN</td>\n",
              "      <td>NaN</td>\n",
              "      <td>NaN</td>\n",
              "      <td>NaN</td>\n",
              "      <td>NaN</td>\n",
              "      <td>NaN</td>\n",
              "      <td>NaN</td>\n",
              "      <td>NaN</td>\n",
              "      <td>NaN</td>\n",
              "      <td>NaN</td>\n",
              "      <td>NaN</td>\n",
              "      <td>NaN</td>\n",
              "      <td>NaN</td>\n",
              "      <td>NaN</td>\n",
              "      <td>NaN</td>\n",
              "      <td>NaN</td>\n",
              "      <td>NaN</td>\n",
              "      <td>NaN</td>\n",
              "      <td>NaN</td>\n",
              "      <td>NaN</td>\n",
              "      <td>NaN</td>\n",
              "      <td>NaN</td>\n",
              "      <td>NaN</td>\n",
              "      <td>NaN</td>\n",
              "      <td>7.0</td>\n",
              "      <td>1.0</td>\n",
              "      <td>NaN</td>\n",
              "      <td>NaN</td>\n",
              "      <td>NaN</td>\n",
              "      <td>NaN</td>\n",
              "      <td>NaN</td>\n",
              "      <td>NaN</td>\n",
              "      <td>NaN</td>\n",
              "      <td>NaN</td>\n",
              "      <td>NaN</td>\n",
              "      <td>NaN</td>\n",
              "      <td>NaN</td>\n",
              "      <td>NaN</td>\n",
              "      <td>NaN</td>\n",
              "      <td>NaN</td>\n",
              "      <td>NaN</td>\n",
              "      <td>NaN</td>\n",
              "      <td>NaN</td>\n",
              "      <td>NaN</td>\n",
              "      <td>NaN</td>\n",
              "      <td>NaN</td>\n",
              "      <td>NaN</td>\n",
              "      <td>NaN</td>\n",
              "      <td>NaN</td>\n",
              "      <td>NaN</td>\n",
              "      <td>NaN</td>\n",
              "      <td>NaN</td>\n",
              "      <td>NaN</td>\n",
              "      <td>NaN</td>\n",
              "      <td>NaN</td>\n",
              "    </tr>\n",
              "    <tr>\n",
              "      <th>98750</th>\n",
              "      <td>0_08988022-46cd-4300-80c8-97dc84b7016b</td>\n",
              "      <td>9.0</td>\n",
              "      <td>1</td>\n",
              "      <td>NaN</td>\n",
              "      <td>NaN</td>\n",
              "      <td>NaN</td>\n",
              "      <td>NaN</td>\n",
              "      <td>NaN</td>\n",
              "      <td>NaN</td>\n",
              "      <td>NaN</td>\n",
              "      <td>NaN</td>\n",
              "      <td>NaN</td>\n",
              "      <td>NaN</td>\n",
              "      <td>NaN</td>\n",
              "      <td>NaN</td>\n",
              "      <td>NaN</td>\n",
              "      <td>NaN</td>\n",
              "      <td>NaN</td>\n",
              "      <td>NaN</td>\n",
              "      <td>NaN</td>\n",
              "      <td>NaN</td>\n",
              "      <td>NaN</td>\n",
              "      <td>NaN</td>\n",
              "      <td>NaN</td>\n",
              "      <td>NaN</td>\n",
              "      <td>NaN</td>\n",
              "      <td>NaN</td>\n",
              "      <td>NaN</td>\n",
              "      <td>NaN</td>\n",
              "      <td>NaN</td>\n",
              "      <td>NaN</td>\n",
              "      <td>NaN</td>\n",
              "      <td>NaN</td>\n",
              "      <td>8.0</td>\n",
              "      <td>1.0</td>\n",
              "      <td>NaN</td>\n",
              "      <td>NaN</td>\n",
              "      <td>NaN</td>\n",
              "      <td>NaN</td>\n",
              "      <td>NaN</td>\n",
              "      <td>NaN</td>\n",
              "      <td>NaN</td>\n",
              "      <td>NaN</td>\n",
              "      <td>NaN</td>\n",
              "      <td>NaN</td>\n",
              "      <td>NaN</td>\n",
              "      <td>NaN</td>\n",
              "      <td>NaN</td>\n",
              "      <td>NaN</td>\n",
              "      <td>NaN</td>\n",
              "      <td>NaN</td>\n",
              "      <td>NaN</td>\n",
              "      <td>NaN</td>\n",
              "      <td>NaN</td>\n",
              "      <td>NaN</td>\n",
              "      <td>NaN</td>\n",
              "      <td>NaN</td>\n",
              "      <td>NaN</td>\n",
              "      <td>NaN</td>\n",
              "      <td>NaN</td>\n",
              "      <td>NaN</td>\n",
              "      <td>NaN</td>\n",
              "      <td>NaN</td>\n",
              "      <td>NaN</td>\n",
              "    </tr>\n",
              "    <tr>\n",
              "      <th>98751</th>\n",
              "      <td>0_08988022-46cd-4300-80c8-97dc84b7016b</td>\n",
              "      <td>10.0</td>\n",
              "      <td>0</td>\n",
              "      <td>NaN</td>\n",
              "      <td>NaN</td>\n",
              "      <td>NaN</td>\n",
              "      <td>NaN</td>\n",
              "      <td>NaN</td>\n",
              "      <td>NaN</td>\n",
              "      <td>NaN</td>\n",
              "      <td>NaN</td>\n",
              "      <td>NaN</td>\n",
              "      <td>NaN</td>\n",
              "      <td>NaN</td>\n",
              "      <td>NaN</td>\n",
              "      <td>NaN</td>\n",
              "      <td>NaN</td>\n",
              "      <td>NaN</td>\n",
              "      <td>NaN</td>\n",
              "      <td>NaN</td>\n",
              "      <td>NaN</td>\n",
              "      <td>NaN</td>\n",
              "      <td>NaN</td>\n",
              "      <td>NaN</td>\n",
              "      <td>NaN</td>\n",
              "      <td>NaN</td>\n",
              "      <td>NaN</td>\n",
              "      <td>NaN</td>\n",
              "      <td>NaN</td>\n",
              "      <td>NaN</td>\n",
              "      <td>NaN</td>\n",
              "      <td>NaN</td>\n",
              "      <td>NaN</td>\n",
              "      <td>9.0</td>\n",
              "      <td>1.0</td>\n",
              "      <td>NaN</td>\n",
              "      <td>NaN</td>\n",
              "      <td>NaN</td>\n",
              "      <td>NaN</td>\n",
              "      <td>NaN</td>\n",
              "      <td>NaN</td>\n",
              "      <td>NaN</td>\n",
              "      <td>NaN</td>\n",
              "      <td>NaN</td>\n",
              "      <td>NaN</td>\n",
              "      <td>NaN</td>\n",
              "      <td>NaN</td>\n",
              "      <td>NaN</td>\n",
              "      <td>NaN</td>\n",
              "      <td>NaN</td>\n",
              "      <td>NaN</td>\n",
              "      <td>NaN</td>\n",
              "      <td>NaN</td>\n",
              "      <td>NaN</td>\n",
              "      <td>NaN</td>\n",
              "      <td>NaN</td>\n",
              "      <td>NaN</td>\n",
              "      <td>NaN</td>\n",
              "      <td>NaN</td>\n",
              "      <td>NaN</td>\n",
              "      <td>NaN</td>\n",
              "      <td>NaN</td>\n",
              "      <td>NaN</td>\n",
              "      <td>NaN</td>\n",
              "    </tr>\n",
              "  </tbody>\n",
              "</table>\n",
              "</div>"
            ],
            "text/plain": [
              "                                   session_id  ...  previous_acoustic_vector_7\n",
              "98742  0_08988022-46cd-4300-80c8-97dc84b7016b  ...                         NaN\n",
              "98743  0_08988022-46cd-4300-80c8-97dc84b7016b  ...                   -0.239506\n",
              "98744  0_08988022-46cd-4300-80c8-97dc84b7016b  ...                         NaN\n",
              "98745  0_08988022-46cd-4300-80c8-97dc84b7016b  ...                         NaN\n",
              "98746  0_08988022-46cd-4300-80c8-97dc84b7016b  ...                         NaN\n",
              "98747  0_08988022-46cd-4300-80c8-97dc84b7016b  ...                         NaN\n",
              "98748  0_08988022-46cd-4300-80c8-97dc84b7016b  ...                         NaN\n",
              "98749  0_08988022-46cd-4300-80c8-97dc84b7016b  ...                         NaN\n",
              "98750  0_08988022-46cd-4300-80c8-97dc84b7016b  ...                         NaN\n",
              "98751  0_08988022-46cd-4300-80c8-97dc84b7016b  ...                         NaN\n",
              "\n",
              "[10 rows x 64 columns]"
            ]
          },
          "metadata": {
            "tags": []
          },
          "execution_count": 73
        }
      ]
    },
    {
      "cell_type": "code",
      "metadata": {
        "id": "TZiToKXMdKY4",
        "colab": {
          "base_uri": "https://localhost:8080/",
          "height": 357
        },
        "outputId": "1b177e03-4764-4609-dc82-7e030c324170"
      },
      "source": [
        "sns.scatterplot(\r\n",
        "    session.session_position,\r\n",
        "    session.us_popularity_estimate,\r\n",
        "    hue=session.skipped\r\n",
        ")"
      ],
      "execution_count": 74,
      "outputs": [
        {
          "output_type": "stream",
          "text": [
            "/usr/local/lib/python3.6/dist-packages/seaborn/_decorators.py:43: FutureWarning: Pass the following variables as keyword args: x, y. From version 0.12, the only valid positional argument will be `data`, and passing other arguments without an explicit keyword will result in an error or misinterpretation.\n",
            "  FutureWarning\n"
          ],
          "name": "stderr"
        },
        {
          "output_type": "execute_result",
          "data": {
            "text/plain": [
              "<matplotlib.axes._subplots.AxesSubplot at 0x7f25661a05f8>"
            ]
          },
          "metadata": {
            "tags": []
          },
          "execution_count": 74
        },
        {
          "output_type": "display_data",
          "data": {
            "image/png": "[encoded data removed]",
            "text/plain": [
              "<Figure size 432x288 with 1 Axes>"
            ]
          },
          "metadata": {
            "tags": []
          }
        }
      ]
    },
    {
      "cell_type": "code",
      "metadata": {
        "colab": {
          "base_uri": "https://localhost:8080/",
          "height": 357
        },
        "id": "8lJ6IcCZdYpR",
        "outputId": "94a253e0-e21c-4595-d8ac-668989a9d526"
      },
      "source": [
        "sns.scatterplot(\r\n",
        "    session.session_position,\r\n",
        "    session.acousticness,\r\n",
        "    hue=session.skipped\r\n",
        ")"
      ],
      "execution_count": 75,
      "outputs": [
        {
          "output_type": "stream",
          "text": [
            "/usr/local/lib/python3.6/dist-packages/seaborn/_decorators.py:43: FutureWarning: Pass the following variables as keyword args: x, y. From version 0.12, the only valid positional argument will be `data`, and passing other arguments without an explicit keyword will result in an error or misinterpretation.\n",
            "  FutureWarning\n"
          ],
          "name": "stderr"
        },
        {
          "output_type": "execute_result",
          "data": {
            "text/plain": [
              "<matplotlib.axes._subplots.AxesSubplot at 0x7f256601db00>"
            ]
          },
          "metadata": {
            "tags": []
          },
          "execution_count": 75
        },
        {
          "output_type": "display_data",
          "data": {
            "image/png": "[encoded data removed]",
            "text/plain": [
              "<Figure size 432x288 with 1 Axes>"
            ]
          },
          "metadata": {
            "tags": []
          }
        }
      ]
    },
    {
      "cell_type": "code",
      "metadata": {
        "id": "jlSHAU7gdh1V"
      },
      "source": [
        ""
      ],
      "execution_count": null,
      "outputs": []
    }
  ]
}